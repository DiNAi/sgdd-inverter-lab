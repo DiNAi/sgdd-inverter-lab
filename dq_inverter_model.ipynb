{
 "cells": [
  {
   "cell_type": "markdown",
   "metadata": {},
   "source": [
    "# Modeling a 3-phase inverter in the dq reference frame"
   ]
  },
  {
   "cell_type": "markdown",
   "metadata": {},
   "source": [
    "Abstract \n",
    "\n",
    "> A bit of symbolic math and several hand written equations to go from the circuit equations expressed in the natural *abc* reference frame to the synchronously rotating *dq* reference frame.\n",
    "\n",
    "Pierre Haessig —  May 2015"
   ]
  },
  {
   "cell_type": "code",
   "execution_count": 1,
   "metadata": {
    "collapsed": true
   },
   "outputs": [],
   "source": [
    "import sympy\n",
    "from sympy import symbols, simplify, Matrix, sqrt, Rational\n",
    "from sympy import pi, cos, sin, exp"
   ]
  },
  {
   "cell_type": "code",
   "execution_count": 2,
   "metadata": {
    "collapsed": true
   },
   "outputs": [],
   "source": [
    "sympy.init_printing()"
   ]
  },
  {
   "cell_type": "markdown",
   "metadata": {},
   "source": [
    "## 1) Prelude: coordinate transformations"
   ]
  },
  {
   "cell_type": "markdown",
   "metadata": {},
   "source": [
    "### 1a) *αβ* (Clarke) transform\n",
    "\n",
    "it reduces the 3-phased variables (voltages or currents) into two coordinates in a fixed orthogonal reference frame:\n",
    "$$ v_{\\alpha \\beta }(t)=\n",
    "   \\frac 23\n",
    "   \\begin{bmatrix}\n",
    "       1&-{\\frac 12}&-{\\frac 12}\\\\\n",
    "       0& {\\frac {{\\sqrt {3}}}{2}}&-{\\frac {{\\sqrt {3}}}{2}}\n",
    "   \\end{bmatrix}\n",
    "   \\begin{bmatrix}\n",
    "       i_{a}(t)\\\\i_{b}(t)\\\\i_{c}(t)\n",
    "   \\end{bmatrix}\n",
    "$$\n",
    "\n",
    "axis $\\alpha$ is aligned with axis a, and $\\beta$ is orthogonal, toward b"
   ]
  },
  {
   "cell_type": "code",
   "execution_count": 5,
   "metadata": {
    "collapsed": false
   },
   "outputs": [
    {
     "data": {
      "image/png": "[encoded data removed]",
      "text/latex": [
       "$$\\left[\\begin{matrix}\\frac{2}{3} & - \\frac{1}{3} & - \\frac{1}{3}\\\\0 & \\frac{\\sqrt{3}}{3} & - \\frac{\\sqrt{3}}{3}\\end{matrix}\\right]$$"
      ],
      "text/plain": [
       "⎡2/3  -1/3    -1/3  ⎤\n",
       "⎢                   ⎥\n",
       "⎢       ___     ___ ⎥\n",
       "⎢     ╲╱ 3   -╲╱ 3  ⎥\n",
       "⎢ 0   ─────  ───────⎥\n",
       "⎣       3       3   ⎦"
      ]
     },
     "execution_count": 5,
     "metadata": {},
     "output_type": "execute_result"
    }
   ],
   "source": [
    "half = Rational(1,2)\n",
    "T = Rational(2,3) * Matrix(\n",
    "    [[1, -half, -half],\n",
    "     [0, sqrt(3)*half, -sqrt(3)*half]])\n",
    "T"
   ]
  },
  {
   "cell_type": "markdown",
   "metadata": {},
   "source": [
    "### 1b) *dq* (Park) transform\n",
    "\n",
    "$$ v_{dq}(t)=\n",
    "   \\begin{bmatrix}\n",
    "        \\cos \\theta(t)& \\sin \\theta(t)\\\\\n",
    "       -\\sin\\theta(t)& \\cos \\theta(t)\n",
    "   \\end{bmatrix}\n",
    "   v_{\\alpha \\beta }(t)\n",
    "$$\n",
    "\n",
    "→ $T_{dq}(\\theta(t))$ matrix (a rotation matrix by angle $\\theta$)\n",
    "\n",
    "with angle $\\theta(t)$ being generally rotating at a fixed speed $\\omega t + \\theta_{ref}$"
   ]
  },
  {
   "cell_type": "code",
   "execution_count": 8,
   "metadata": {
    "collapsed": false
   },
   "outputs": [
    {
     "data": {
      "image/png": "[encoded data removed]",
      "text/latex": [
       "$$\\left[\\begin{matrix}\\cos{\\left (\\theta \\right )} & \\sin{\\left (\\theta \\right )}\\\\- \\sin{\\left (\\theta \\right )} & \\cos{\\left (\\theta \\right )}\\end{matrix}\\right]$$"
      ],
      "text/plain": [
       "⎡cos(θ)   sin(θ)⎤\n",
       "⎢               ⎥\n",
       "⎣-sin(θ)  cos(θ)⎦"
      ]
     },
     "execution_count": 8,
     "metadata": {},
     "output_type": "execute_result"
    }
   ],
   "source": [
    "th = symbols('theta')\n",
    "Tdq = Matrix(\n",
    "    [[ cos(th), sin(th)],\n",
    "     [-sin(th), cos(th)]])\n",
    "\n",
    "Tdq"
   ]
  },
  {
   "cell_type": "markdown",
   "metadata": {},
   "source": [
    "synchronization with the grid"
   ]
  },
  {
   "cell_type": "code",
   "execution_count": 24,
   "metadata": {
    "collapsed": false
   },
   "outputs": [
    {
     "data": {
      "image/png": "[encoded data removed]",
      "text/latex": [
       "$$\\left[\\begin{matrix}\\cos{\\left (\\omega t + \\theta_{g} \\right )} & \\sin{\\left (\\omega t + \\theta_{g} \\right )}\\\\- \\sin{\\left (\\omega t + \\theta_{g} \\right )} & \\cos{\\left (\\omega t + \\theta_{g} \\right )}\\end{matrix}\\right]$$"
      ],
      "text/plain": [
       "⎡cos(ω⋅t + θ_g)   sin(ω⋅t + θ_g)⎤\n",
       "⎢                               ⎥\n",
       "⎣-sin(ω⋅t + θ_g)  cos(ω⋅t + θ_g)⎦"
      ]
     },
     "execution_count": 24,
     "metadata": {},
     "output_type": "execute_result"
    }
   ],
   "source": [
    "t, thg = symbols('t theta_g')\n",
    "w = symbols('omega', nonzero=True)\n",
    "Tdq_g = Tdq.subs(th, w*t+thg)\n",
    "Tdq_g"
   ]
  },
  {
   "cell_type": "markdown",
   "metadata": {},
   "source": [
    "Note: there are some disagreements about sign convention and normalization for these transorms."
   ]
  },
  {
   "cell_type": "markdown",
   "metadata": {},
   "source": [
    "### 1c) Verification of the transformation interest\n",
    "\n",
    "With the Park transorm, a three-phased sinusoidal variables become constant (\"DC\") variables.\n",
    "\n",
    "Example with the converter voltages:"
   ]
  },
  {
   "cell_type": "code",
   "execution_count": 25,
   "metadata": {
    "collapsed": false
   },
   "outputs": [],
   "source": [
    "Vc, thc = symbols('V_c theta_c')\n",
    "\n",
    "vc_a = Vc*cos(w*t+thc)\n",
    "vc_b = Vc*cos(w*t+thc-2*pi/3)\n",
    "vc_c = Vc*cos(w*t+thc-4*pi/3)"
   ]
  },
  {
   "cell_type": "code",
   "execution_count": 26,
   "metadata": {
    "collapsed": false
   },
   "outputs": [
    {
     "data": {
      "image/png": "[encoded data removed]",
      "text/latex": [
       "$$\\left[\\begin{matrix}V_{c} \\cos{\\left (\\omega t + \\theta_{c} \\right )}\\\\- V_{c} \\cos{\\left (\\omega t + \\theta_{c} + \\frac{\\pi}{3} \\right )}\\\\- V_{c} \\sin{\\left (\\omega t + \\theta_{c} + \\frac{\\pi}{6} \\right )}\\end{matrix}\\right]$$"
      ],
      "text/plain": [
       "⎡  V_c⋅cos(ω⋅t + θ_c)   ⎤\n",
       "⎢                       ⎥\n",
       "⎢        ⎛            π⎞⎥\n",
       "⎢-V_c⋅cos⎜ω⋅t + θ_c + ─⎟⎥\n",
       "⎢        ⎝            3⎠⎥\n",
       "⎢                       ⎥\n",
       "⎢        ⎛            π⎞⎥\n",
       "⎢-V_c⋅sin⎜ω⋅t + θ_c + ─⎟⎥\n",
       "⎣        ⎝            6⎠⎦"
      ]
     },
     "execution_count": 26,
     "metadata": {},
     "output_type": "execute_result"
    }
   ],
   "source": [
    "vc_abc = Matrix([vc_a, vc_b, vc_c])\n",
    "vc_abc"
   ]
  },
  {
   "cell_type": "code",
   "execution_count": 27,
   "metadata": {
    "collapsed": false
   },
   "outputs": [
    {
     "data": {
      "image/png": "[encoded data removed]",
      "text/latex": [
       "$$\\left[\\begin{matrix}V_{c} \\cos{\\left (\\theta_{c} - \\theta_{g} \\right )}\\\\V_{c} \\sin{\\left (\\theta_{c} - \\theta_{g} \\right )}\\end{matrix}\\right]$$"
      ],
      "text/plain": [
       "⎡V_c⋅cos(θ_c - θ_g)⎤\n",
       "⎢                  ⎥\n",
       "⎣V_c⋅sin(θ_c - θ_g)⎦"
      ]
     },
     "execution_count": 27,
     "metadata": {},
     "output_type": "execute_result"
    }
   ],
   "source": [
    "vc_dq = simplify(Tdq_g * T * vc_abc)\n",
    "vc_dq"
   ]
  },
  {
   "cell_type": "markdown",
   "metadata": {},
   "source": [
    "Conclusion: we indeed get a constant vector (as long as the amplitude and the phase are constants...)"
   ]
  },
  {
   "cell_type": "markdown",
   "metadata": {},
   "source": [
    "## 2) Inverter dynamics modeling"
   ]
  },
  {
   "cell_type": "markdown",
   "metadata": {},
   "source": [
    "### 2a) Starting point: equations in the natural *abc* frame\n",
    "\n",
    "for each phase, named *a,b*, and *c*, we have:\n",
    "\n",
    "$$L \\frac{di_a}{dt} = vc_a - vg_a$$\n",
    "\n",
    "so globally we have three equations:\n",
    "\n",
    "$$ L \\frac{di_{abc}}{dt} = vc_{abc} - vg_{abc} $$\n",
    "\n",
    "(although only 2 out of 3 inductor currents are independant, because of the current's law $i_a+i_b+i_c = 0$)."
   ]
  },
  {
   "cell_type": "markdown",
   "metadata": {},
   "source": [
    "### 2b) αβ equations\n",
    "\n",
    "Multiplying by $T_{\\alpha \\beta}$, we get two equations:\n",
    "\n",
    "$$ L \\frac{di_{\\alpha \\beta}}{dt} = vc_{\\alpha \\beta} - vg_{\\alpha \\beta} $$\n",
    "\n",
    "These are completely independant. However, variables are still sinusoidals.\n",
    "\n",
    "### 2c) dq equations\n",
    "\n",
    "We use the inverse (dq→αβ) transorm. It is:\n",
    "\n",
    "$$x_{\\alpha \\beta} = T_{dq}^T(t) x_{dq},$$\n",
    "\n",
    "because $T_{dq}$ is a orthogonal matrix: (property $Q^{-1} = Q^T$).\n",
    "\n",
    "Replacing all αβ vectors in the electrical equation we get:\n",
    "\n",
    "$$ L \\frac{d ( T_{dq}^T(t) i_{dq} )}{dt} = T_{dq}^T(t)vc_{dq} - T_{dq}^T(t)vg_{dq} $$\n",
    "\n",
    "and this include a product of two functions to derive:\n",
    "\n",
    "$$\\frac{d ( T_{dq}^T(t) i_{dq} )}{dt} = \n",
    "    T_{dq}^T(t) \\frac{di_{dq}}{dt} + \n",
    "    \\frac{dT_{dq}^T(t)}{dt}i_{dq}\n",
    "    $$"
   ]
  },
  {
   "cell_type": "markdown",
   "metadata": {},
   "source": [
    "the derivative of the dq matrix has a special property:\n",
    "\n",
    "$$\\frac{dT_{dq}(t)}{dt} = \\frac{dT_{dq}(\\theta)}{d\\theta} \\dot{\\theta}$$\n",
    "\n",
    "\n",
    "($\\dot{\\theta} = \\omega$ the grid frequency (in rad/s), assumed to be constant, or at least slowly varying)"
   ]
  },
  {
   "cell_type": "markdown",
   "metadata": {},
   "source": [
    "The derivative of the $T_{dq}(\\theta)$ matrix yields axes rotated by $+\\pi/2$:\n",
    "\n",
    "$$ \\frac{dT_{dq}(\\theta)}{d\\theta} =\n",
    "    \\begin{bmatrix}\n",
    "     0& 1\\\\\n",
    "    -1& 0\n",
    "    \\end{bmatrix}\n",
    "    T_{dq}(\\theta)$$"
   ]
  },
  {
   "cell_type": "code",
   "execution_count": 42,
   "metadata": {
    "collapsed": false
   },
   "outputs": [
    {
     "data": {
      "image/png": "[encoded data removed]",
      "text/latex": [
       "$$\\left[\\begin{matrix}- \\sin{\\left (\\theta \\right )} & \\cos{\\left (\\theta \\right )}\\\\- \\cos{\\left (\\theta \\right )} & - \\sin{\\left (\\theta \\right )}\\end{matrix}\\right]$$"
      ],
      "text/plain": [
       "⎡-sin(θ)  cos(θ) ⎤\n",
       "⎢                ⎥\n",
       "⎣-cos(θ)  -sin(θ)⎦"
      ]
     },
     "execution_count": 42,
     "metadata": {},
     "output_type": "execute_result"
    }
   ],
   "source": [
    "Tdq.diff(th)"
   ]
  },
  {
   "cell_type": "code",
   "execution_count": 44,
   "metadata": {
    "collapsed": false
   },
   "outputs": [
    {
     "data": {
      "image/png": "[encoded data removed]",
      "text/latex": [
       "$$\\left[\\begin{matrix}- \\sin{\\left (\\theta \\right )} & \\cos{\\left (\\theta \\right )}\\\\- \\cos{\\left (\\theta \\right )} & - \\sin{\\left (\\theta \\right )}\\end{matrix}\\right]$$"
      ],
      "text/plain": [
       "⎡-sin(θ)  cos(θ) ⎤\n",
       "⎢                ⎥\n",
       "⎣-cos(θ)  -sin(θ)⎦"
      ]
     },
     "execution_count": 44,
     "metadata": {},
     "output_type": "execute_result"
    }
   ],
   "source": [
    "R90 = Matrix([[0, 1],\n",
    "              [-1, 0]])\n",
    "R90*Tdq"
   ]
  },
  {
   "cell_type": "markdown",
   "metadata": {},
   "source": [
    "So the $\\frac{dT_{dq}^T(t)}{dt}i_{dq}$ term becomes (noting that rot(90) transposed is rot(-90))\n",
    "\n",
    "$$ \\omega T_{dq}^T \n",
    "   \\begin{bmatrix}\n",
    "     0& -1\\\\\n",
    "     1& 0\n",
    "    \\end{bmatrix}$$"
   ]
  },
  {
   "cell_type": "markdown",
   "metadata": {},
   "source": [
    "####  Final dq equation"
   ]
  },
  {
   "cell_type": "markdown",
   "metadata": {},
   "source": [
    "in the end, multiplying by $T_{dq}$ simplifies the $T_{dq}^T$ terms (again: orthogonal matrix)\n",
    "\n",
    "$$ L \\frac{di_{dq}}{dt} = vc_{dq} - vg_{dq} +\n",
    "    \\begin{bmatrix}\n",
    "     0& L\\omega\\\\\n",
    "     -L\\omega& 0\n",
    "    \\end{bmatrix}\n",
    "    i_{dq}\n",
    "    $$"
   ]
  },
  {
   "cell_type": "markdown",
   "metadata": {},
   "source": [
    "#### Current cross coupling\n",
    "Observation: there is a cross coupling term between the d-axis current and the q-axis current. They dynamically influence each other.\n",
    "\n",
    "Explanation: in absence of voltage ($vc = vg =0$), we are left only with ideal inductors. Their currents keep constant in the natural *abc* frame. These constant (DC) currents correspond to a rotation at $-\\omega$ speed in the *dq* frame."
   ]
  },
  {
   "cell_type": "markdown",
   "metadata": {},
   "source": [
    "## 3) Inverter control structure"
   ]
  },
  {
   "cell_type": "markdown",
   "metadata": {},
   "source": [
    "### 3a) Feedforward terms:\n",
    "\n",
    "we simplify the dynamics by including two feedforward terms:\n",
    "\n",
    "$$ vc_{dq} = vg_{dq} +\n",
    "    \\begin{bmatrix}\n",
    "     0& -L\\omega\\\\\n",
    "     +L\\omega& 0\n",
    "    \\end{bmatrix}\n",
    "    i_{dq} + u_{dq}\n",
    "$$\n",
    "\n",
    "\n",
    "#### About grid voltage feedforward\n",
    "\n",
    "It makes sense because the converter voltages should be equal to the grid voltages in order to have zero current (especially usefull at startup)."
   ]
  },
  {
   "cell_type": "markdown",
   "metadata": {},
   "source": [
    "Thanks to these two feedforward terms, the dynamics reduces to two independant integrators: the d and q channels can be **controlled independantly**.\n",
    "\n",
    "$$ L \\frac{di_{dq}}{dt} = u_{dq} $$"
   ]
  },
  {
   "cell_type": "markdown",
   "metadata": {},
   "source": [
    "### 3b) Controller design\n",
    "\n",
    "Because the open-loop system is an integrator, a simple proportional controller ($C(s) = K_p$) could be enough.\n",
    "However, if we take into account some parasitic *series resistance*, the open loop system becomes a first order R-L system.\n",
    "Therefore, we choose a PI controller to eliminate any static error: \n",
    "\n",
    "$$C(s) = K_p(1 + \\frac{1}{T_i s})$$\n",
    "\n",
    "See the [PI control design](PI_control.ipynb) notebook for how to tune the controller"
   ]
  }
 ],
 "metadata": {
  "kernelspec": {
   "display_name": "Python 2",
   "language": "python",
   "name": "python2"
  },
  "language_info": {
   "codemirror_mode": {
    "name": "ipython",
    "version": 2
   },
   "file_extension": ".py",
   "mimetype": "text/x-python",
   "name": "python",
   "nbconvert_exporter": "python",
   "pygments_lexer": "ipython2",
   "version": "2.7.9"
  }
 },
 "nbformat": 4,
 "nbformat_minor": 0
}
