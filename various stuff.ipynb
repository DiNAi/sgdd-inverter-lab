{
 "cells": [
  {
   "cell_type": "markdown",
   "metadata": {},
   "source": [
    "# Various stuff for the inverter control"
   ]
  },
  {
   "cell_type": "markdown",
   "metadata": {},
   "source": [
    "Draft notebook:\n",
    "\n",
    "* Plot of 3phase voltages\n",
    "* Low-pass filter design to filter out the switching frequency"
   ]
  },
  {
   "cell_type": "markdown",
   "metadata": {},
   "source": [
    "## Plots of three phase voltages"
   ]
  },
  {
   "cell_type": "markdown",
   "metadata": {},
   "source": [
    "Note : this should be merged with https://github.com/pierre-haessig/trace-triphi"
   ]
  },
  {
   "cell_type": "code",
   "execution_count": 1,
   "metadata": {
    "collapsed": false
   },
   "outputs": [],
   "source": [
    "import numpy as np\n",
    "from numpy import pi, cos, sin, sqrt\n",
    "import matplotlib.pyplot as plt"
   ]
  },
  {
   "cell_type": "code",
   "execution_count": 2,
   "metadata": {
    "collapsed": false
   },
   "outputs": [],
   "source": [
    "%matplotlib inline"
   ]
  },
  {
   "cell_type": "code",
   "execution_count": 3,
   "metadata": {
    "collapsed": false
   },
   "outputs": [],
   "source": [
    "Nper = 1\n",
    "Npts = 500\n",
    "th = np.linspace(0, 2*pi*Nper, Npts)\n",
    "\n",
    "ia = cos(th)\n",
    "ib = cos(th-2*pi/3)\n",
    "ic = cos(th-4*pi/3)"
   ]
  },
  {
   "cell_type": "code",
   "execution_count": 4,
   "metadata": {
    "collapsed": false
   },
   "outputs": [
    {
     "data": {
      "text/plain": [
       "0.86602540378443871"
      ]
     },
     "execution_count": 4,
     "metadata": {},
     "output_type": "execute_result"
    }
   ],
   "source": [
    "sin(2*pi/3)"
   ]
  },
  {
   "cell_type": "code",
   "execution_count": 5,
   "metadata": {
    "collapsed": false
   },
   "outputs": [
    {
     "data": {
      "text/plain": [
       "(array([ 0.        ,  0.52359878,  1.04719755,  1.57079633,  2.0943951 ,\n",
       "         2.61799388,  3.14159265,  3.66519143,  4.1887902 ,  4.71238898,\n",
       "         5.23598776,  5.75958653,  6.28318531]),\n",
       " ['0',\n",
       "  '$\\\\frac{\\\\pi}{6}$',\n",
       "  '$\\\\frac{\\\\pi}{3}$',\n",
       "  '$\\\\frac{\\\\pi}{2}$',\n",
       "  '$\\\\frac{2\\\\pi}{3}$',\n",
       "  '$\\\\frac{5\\\\pi}{6}$',\n",
       "  '$\\\\pi$',\n",
       "  '$\\\\frac{7\\\\pi}{6}$',\n",
       "  '$\\\\frac{4\\\\pi}{3}$',\n",
       "  '$\\\\frac{3\\\\pi}{2}$',\n",
       "  '$\\\\frac{5\\\\pi}{3}$',\n",
       "  '$\\\\frac{11\\\\pi}{6}$',\n",
       "  '$2\\\\pi$'])"
      ]
     },
     "execution_count": 5,
     "metadata": {},
     "output_type": "execute_result"
    }
   ],
   "source": [
    "def label_2pi12(Nper):\n",
    "    pos = np.linspace(0, 2*pi*Nper, Nper*12+1) # pi/6 spacing\n",
    "    \n",
    "    num_list = range(0, Nper*12+1)\n",
    "    den = 6\n",
    "    from fractions import Fraction\n",
    "    labels = [Fraction(num, den) for num in num_list]\n",
    "    \n",
    "    def fmt_pi_frac(frac):\n",
    "        num, den = frac.numerator, frac.denominator\n",
    "        if den == 1: # integer\n",
    "            if num == 0:\n",
    "                return '0'\n",
    "            elif num == 1:\n",
    "                return r'$\\pi$'\n",
    "            elif num == -1:\n",
    "                return r'$-\\pi$'\n",
    "            else:\n",
    "                return r'${:d}\\pi$'.format(num)\n",
    "        else: # den != 1\n",
    "            if num==1: # pi/den\n",
    "                return r'$\\frac{{\\pi}}{{{:d}}}$'.format(den)\n",
    "            elif num == -1:\n",
    "                return r'$-\\frac{{\\pi}}{{{:d}}}$'.format(den)\n",
    "            else:\n",
    "                return r'$\\frac{{{:d}\\pi}}{{{:d}}}$'.format(num,den)\n",
    "    labels = map(fmt_pi_frac, labels)\n",
    "    \n",
    "    return pos, labels\n",
    "\n",
    "label_2pi12(1)"
   ]
  },
  {
   "cell_type": "code",
   "execution_count": 6,
   "metadata": {
    "collapsed": false
   },
   "outputs": [
    {
     "data": {
      "image/png": "[encoded data removed]",
      "text/plain": [
       "<matplotlib.figure.Figure at 0x7f5b2a8eb910>"
      ]
     },
     "metadata": {},
     "output_type": "display_data"
    }
   ],
   "source": [
    "fig = plt.figure(figsize=(5,3))\n",
    "plt.plot(th, ia, label='a')\n",
    "plt.plot(th, ib, label='b')\n",
    "plt.plot(th, ic, label='c')\n",
    "plt.legend();\n",
    "\n",
    "plt.xticks(*label_2pi12(Nper));\n",
    "plt.yticks([-1, -sin(2*pi/3), -0.5, 0, 0.5, sin(2*pi/3), 1],\n",
    "           ['-1', '$-\\sqrt{3}/2$', '-1/2', '0', '1/2', '$\\sqrt{3}/2$', '1']);\n",
    "plt.grid(color=(0.5, 0.5, 0.5))\n",
    "plt.xlim(0, 2*pi*Nper)\n",
    "plt.ylim(-1.1, 1.1)\n",
    "\n",
    "fig.tight_layout()\n",
    "\n",
    "fig.savefig('abc_1per.png', dpi=200)"
   ]
  },
  {
   "cell_type": "markdown",
   "metadata": {},
   "source": [
    "## LP filter to filter out the switching frequency"
   ]
  },
  {
   "cell_type": "markdown",
   "metadata": {},
   "source": [
    "simple filter:\n",
    "\n",
    "$$ H(s) = 1/(1+\\tau s)^n$$\n",
    "\n",
    "Q: find appropriate n and tau"
   ]
  },
  {
   "cell_type": "code",
   "execution_count": 7,
   "metadata": {
    "collapsed": false
   },
   "outputs": [],
   "source": [
    "fs = 10e3 # Hz\n",
    "f_grid = 50 # Hz\n",
    "\n",
    "# desired attenuation @fs\n",
    "a = 2.0 # 1:1000 atten"
   ]
  },
  {
   "cell_type": "code",
   "execution_count": 8,
   "metadata": {
    "collapsed": false
   },
   "outputs": [
    {
     "data": {
      "text/plain": [
       "(0.001591549430918952,\n",
       " 0.00015915494309189522,\n",
       " 7.3873180666961862e-05,\n",
       " 5.0329212104486995e-05)"
      ]
     },
     "execution_count": 8,
     "metadata": {},
     "output_type": "execute_result"
    }
   ],
   "source": [
    "def tau(n):   \n",
    "    return 10**(a/n - np.log10(2*pi*fs)) # s\n",
    "tau(1), tau(2), tau(3), tau(4)"
   ]
  },
  {
   "cell_type": "code",
   "execution_count": 9,
   "metadata": {
    "collapsed": false
   },
   "outputs": [
    {
     "data": {
      "text/plain": [
       "(-26.565051177077969,\n",
       " -5.7248104522234913,\n",
       " -3.9884357901330487,\n",
       " -3.6234013415386404)"
      ]
     },
     "execution_count": 9,
     "metadata": {},
     "output_type": "execute_result"
    }
   ],
   "source": [
    "def phi(n):    \n",
    "    return -n*np.angle(1+2j*pi*tau(n)*f_grid) * (180/pi)\n",
    "phi(1), phi(2), phi(3), phi(4)"
   ]
  },
  {
   "cell_type": "code",
   "execution_count": 13,
   "metadata": {
    "collapsed": false
   },
   "outputs": [
    {
     "data": {
      "text/plain": [
       "(1.6665568447493961e-05, -29.997749108510803)"
      ]
     },
     "execution_count": 13,
     "metadata": {},
     "output_type": "execute_result"
    }
   ],
   "source": [
    "tau(100), phi(100)"
   ]
  },
  {
   "cell_type": "markdown",
   "metadata": {},
   "source": [
    "conclusion: there is an increase for \"big values\" of n"
   ]
  }
 ],
 "metadata": {
  "kernelspec": {
   "display_name": "Python 2",
   "language": "python",
   "name": "python2"
  },
  "language_info": {
   "codemirror_mode": {
    "name": "ipython",
    "version": 2
   },
   "file_extension": ".py",
   "mimetype": "text/x-python",
   "name": "python",
   "nbconvert_exporter": "python",
   "pygments_lexer": "ipython2",
   "version": "2.7.9"
  }
 },
 "nbformat": 4,
 "nbformat_minor": 0
}
