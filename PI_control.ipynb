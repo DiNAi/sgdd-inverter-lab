{
 "cells": [
  {
   "cell_type": "markdown",
   "metadata": {},
   "source": [
    "# Tuning of the PI controller"
   ]
  },
  {
   "cell_type": "markdown",
   "metadata": {},
   "source": [
    "PI controller for the current in a three phase inverter\n",
    "\n",
    "> i* → (+/-) → | C | → u → | H | → i\n",
    "\n",
    "Pierre Haessig — May 2015"
   ]
  },
  {
   "cell_type": "code",
   "execution_count": 1,
   "metadata": {
    "collapsed": false
   },
   "outputs": [],
   "source": [
    "import numpy as np\n",
    "import matplotlib.pyplot as plt\n",
    "import matplotlib as mpl\n",
    "import scipy.signal as sig"
   ]
  },
  {
   "cell_type": "code",
   "execution_count": 2,
   "metadata": {
    "collapsed": false
   },
   "outputs": [],
   "source": [
    "%matplotlib inline"
   ]
  },
  {
   "cell_type": "code",
   "execution_count": 93,
   "metadata": {
    "collapsed": true
   },
   "outputs": [],
   "source": [
    "from IPython.html.widgets import interact, interactive, FloatSlider"
   ]
  },
  {
   "cell_type": "markdown",
   "metadata": {},
   "source": [
    "## 1) Models of the inverter"
   ]
  },
  {
   "cell_type": "markdown",
   "metadata": {},
   "source": [
    "Because of:\n",
    "* expressing the electrical equation in the rotating dq frame\n",
    "* and because of the feedforward terms\n",
    "\n",
    "we control the inverter as two independant and equal channels, with a simple Voltage→Current transfer function:\n",
    "\n",
    "$$ H(s) = I(s) / U(s)$$\n",
    "\n",
    "cf. Notebook about [modeling an inverter in the dq frame](dq_inverter_model.ipynb).\n",
    "\n",
    "\n",
    "### Modeling options\n",
    "\n",
    "#### Integrator (pure inductance)\n",
    "\n",
    "Either we consider only the inductance:\n",
    "$$H(s) = \\frac{1}{L s}$$\n",
    "\n",
    "#### First order (RL circuit)\n",
    "\n",
    "or also a parasitic resistance:\n",
    "\n",
    "$$H(s) = \\frac{1}{R + Ls} = \\frac{1/R}{1 + \\tau s} $$\n",
    "\n",
    "with a time constant $\\tau = L/R$\n",
    "\n",
    "#### First order with delay\n",
    "\n",
    "In addition, we can also consider the delay induced by the sampling of the PWM modulation.\n",
    "\n",
    "$$\\tilde{H}(s) = H(s) e^{-T_d s}$$\n",
    "\n",
    "with $T_d \\approx 1/f_{switch}$ (or 1/2 of this ?)"
   ]
  },
  {
   "cell_type": "code",
   "execution_count": 176,
   "metadata": {
    "collapsed": false
   },
   "outputs": [
    {
     "data": {
      "text/plain": [
       "lti(\n",
       "array([[-1.]]),\n",
       "array([[ 1.]]),\n",
       "array([[ 1.]]),\n",
       "array([ 0.])\n",
       ")"
      ]
     },
     "execution_count": 176,
     "metadata": {},
     "output_type": "execute_result"
    }
   ],
   "source": [
    "L = 1 #H\n",
    "R = 1 # Ohms\n",
    "\n",
    "f_switch = 10e3 # Hz\n",
    "Td = 1/f_switch\n",
    "\n",
    "sys = sig.lti([1], [L, R])\n",
    "sys"
   ]
  },
  {
   "cell_type": "markdown",
   "metadata": {},
   "source": [
    "*Helper: Plotting function for a Bode diagram*"
   ]
  },
  {
   "cell_type": "code",
   "execution_count": 198,
   "metadata": {
    "collapsed": false
   },
   "outputs": [],
   "source": [
    "w_min = 1\n",
    "w_max = 1000\n",
    "w_list = np.logspace(0, 3) # ~1s to 1ms time constants (~ 0.1 Hz to 100 Hz)\n",
    "\n",
    "phase_locator = mpl.ticker.MultipleLocator(90)\n",
    "\n",
    "def bode_plot(w, mag, phase):\n",
    "    fig, (ax1, ax2) = plt.subplots(2,1, sharex=True)\n",
    "    ax1.set(xscale='log', ylabel='Gain (dB)')\n",
    "    ax1.axes.locator_params('y', nbins=5)\n",
    "    ax1.grid(True)\n",
    "    ax2.set(xscale='log', ylabel=u'phase (°)', xlabel=u'puls. ω (rad/s)')\n",
    "    ax2.yaxis.set_major_locator(phase_locator)\n",
    "    ax2.grid(True)\n",
    "    \n",
    "    ax1.plot(w, mag)\n",
    "    ax2.plot(w, phase)\n",
    "    return ax1, ax2"
   ]
  },
  {
   "cell_type": "markdown",
   "metadata": {},
   "source": [
    "### Bode diagram of the inverter"
   ]
  },
  {
   "cell_type": "markdown",
   "metadata": {},
   "source": [
    "$$H = U/I$$"
   ]
  },
  {
   "cell_type": "code",
   "execution_count": 199,
   "metadata": {
    "collapsed": false
   },
   "outputs": [
    {
     "data": {
      "image/png": "[encoded data removed]",
      "text/plain": [
       "<matplotlib.figure.Figure at 0x7efd8e9315d0>"
      ]
     },
     "metadata": {},
     "output_type": "display_data"
    }
   ],
   "source": [
    "L_wdg = FloatSlider(L, min=0, max=3*L)\n",
    "R_wdg = FloatSlider(L, min=0, max=3*R)\n",
    "\n",
    "def sys_bode(L, R, delay=False):  \n",
    "    sys = sig.lti([1], [L, R])\n",
    "    w, mag, phase = sys.bode(w_list)\n",
    "    if delay:\n",
    "        phase -= w_list*Td*180/np.pi\n",
    "    ax1, ax2 = bode_plot(w, mag, phase)\n",
    "    #ax1.plot(w, dB(1/(w*L)), 'b--', label='1/Ls asympt')\n",
    "    if R>0:\n",
    "        # mark the transistion frequency\n",
    "        tau = L/float(R)\n",
    "        ax1.plot(1/tau, -20*np.log10(R)-3, 'bo')\n",
    "        ax2.plot(1/tau, -45, 'bo')\n",
    "    ax1.set(title=u'Inverter transfer func \\nL={:.1f} H, R={:.1f} Ω'.format(L,R))\n",
    "    ax2.set_ylim(-180, 0)\n",
    "    ax2.set_xlim(w_min, w_max)\n",
    "    \n",
    "interact(sys_bode, L=L_wdg, R=R_wdg);"
   ]
  },
  {
   "cell_type": "code",
   "execution_count": 111,
   "metadata": {
    "collapsed": false
   },
   "outputs": [],
   "source": [
    "#L_wdg "
   ]
  },
  {
   "cell_type": "markdown",
   "metadata": {},
   "source": [
    "## 2) PI Controller"
   ]
  },
  {
   "cell_type": "markdown",
   "metadata": {},
   "source": [
    "PI controller equation (other parametrizations are possible)\n",
    "\n",
    "$$C(s) = K_p (1+\\frac{1}{T_i s})$$"
   ]
  },
  {
   "cell_type": "code",
   "execution_count": 187,
   "metadata": {
    "collapsed": false
   },
   "outputs": [
    {
     "data": {
      "text/plain": [
       "lti(\n",
       "array([[-0.]]),\n",
       "array([[ 1.]]),\n",
       "array([[ 10.]]),\n",
       "array([ 5.])\n",
       ")"
      ]
     },
     "execution_count": 187,
     "metadata": {},
     "output_type": "execute_result"
    }
   ],
   "source": [
    "Kp = 5.\n",
    "Ti = 0.5 # s\n",
    "\n",
    "ctrl = sig.lti([Kp*Ti, Kp], [Ti, 0])\n",
    "ctrl"
   ]
  },
  {
   "cell_type": "markdown",
   "metadata": {},
   "source": [
    "### Bode diagram of the controller"
   ]
  },
  {
   "cell_type": "code",
   "execution_count": 188,
   "metadata": {
    "collapsed": false
   },
   "outputs": [
    {
     "data": {
      "image/png": "[encoded data removed]",
      "text/plain": [
       "<matplotlib.figure.Figure at 0x7efd8f25d7d0>"
      ]
     },
     "metadata": {},
     "output_type": "display_data"
    }
   ],
   "source": [
    "@interact(Kp=[0.,10], Ti=[0., 1.])\n",
    "def ctrl_bode(Kp=Kp, Ti=Ti):\n",
    "    ctrl = sig.lti([Kp*Ti, Kp], [Ti, 0])\n",
    "    w, mag, phase = ctrl.bode(w_list)\n",
    "    ax1, ax2 = bode_plot(w, mag, phase)\n",
    "    \n",
    "    if Ti>0:\n",
    "        # mark the transistion frequency\n",
    "        ax1.plot(1/Ti, 20*np.log10(Kp)+3, 'bo')\n",
    "        ax2.plot(1/Ti, -45, 'bo')\n",
    "    \n",
    "    ax2.grid(True)\n",
    "    \n",
    "    ax1"
   ]
  },
  {
   "cell_type": "markdown",
   "metadata": {},
   "source": [
    "## 3) Analysis of the open loop transfer function"
   ]
  },
  {
   "cell_type": "markdown",
   "metadata": {},
   "source": [
    "issue: the series connection of two systems is not implemented"
   ]
  },
  {
   "cell_type": "code",
   "execution_count": 189,
   "metadata": {
    "collapsed": false
   },
   "outputs": [
    {
     "ename": "TypeError",
     "evalue": "unsupported operand type(s) for *: 'lti' and 'lti'",
     "output_type": "error",
     "traceback": [
      "\u001b[1;31m---------------------------------------------------------------------------\u001b[0m",
      "\u001b[1;31mTypeError\u001b[0m                                 Traceback (most recent call last)",
      "\u001b[1;32m<ipython-input-189-8972d705f621>\u001b[0m in \u001b[0;36m<module>\u001b[1;34m()\u001b[0m\n\u001b[1;32m----> 1\u001b[1;33m \u001b[0mH_ol\u001b[0m \u001b[1;33m=\u001b[0m \u001b[0mctrl\u001b[0m\u001b[1;33m*\u001b[0m\u001b[0msys\u001b[0m\u001b[1;33m\u001b[0m\u001b[0m\n\u001b[0m",
      "\u001b[1;31mTypeError\u001b[0m: unsupported operand type(s) for *: 'lti' and 'lti'"
     ]
    }
   ],
   "source": [
    "H_ol = ctrl*sys"
   ]
  },
  {
   "cell_type": "markdown",
   "metadata": {},
   "source": [
    "solution: do the connection in the frequency domain, manually:"
   ]
  },
  {
   "cell_type": "code",
   "execution_count": 190,
   "metadata": {
    "collapsed": true
   },
   "outputs": [],
   "source": [
    "H_ol = ctrl.freqresp(w_list)[1] * sys.freqresp(w_list)[1]"
   ]
  },
  {
   "cell_type": "markdown",
   "metadata": {},
   "source": [
    "### Computing the phase margin"
   ]
  },
  {
   "cell_type": "code",
   "execution_count": 191,
   "metadata": {
    "collapsed": false
   },
   "outputs": [
    {
     "data": {
      "text/plain": [
       "(80.212776440968767, 12)"
      ]
     },
     "execution_count": 191,
     "metadata": {},
     "output_type": "execute_result"
    }
   ],
   "source": [
    "def phase_margin(H_ol):\n",
    "    'phase margin for open loop tranfer function `H_ol` (array of complex numbers)'\n",
    "    # frequency of crossing 0dB\n",
    "    i1 = np.nonzero(dB(H_ol)>0)[0][-1] # last index with gain above 0dB\n",
    "    i2 = np.nonzero(dB(H_ol)<0)[0][0] # first index with gain below\n",
    "    \n",
    "    i_0dB = i2\n",
    "    \n",
    "    #w_cross = w[i_0dB]\n",
    "    margin = 180 + deg(H_ol[i_0dB])\n",
    "    return margin, i_0dB\n",
    "\n",
    "phase_margin(H_ol)"
   ]
  },
  {
   "cell_type": "markdown",
   "metadata": {},
   "source": [
    "### Plot of the open loop transfer"
   ]
  },
  {
   "cell_type": "code",
   "execution_count": 192,
   "metadata": {
    "collapsed": false
   },
   "outputs": [],
   "source": [
    "def dB(x):\n",
    "    return 20*np.log10(np.abs(x))\n",
    "\n",
    "def deg(x):\n",
    "    return np.angle(x, deg=True)"
   ]
  },
  {
   "cell_type": "code",
   "execution_count": 193,
   "metadata": {
    "collapsed": false
   },
   "outputs": [
    {
     "data": {
      "image/png": "[encoded data removed]",
      "text/plain": [
       "<matplotlib.figure.Figure at 0x7efd8f404910>"
      ]
     },
     "metadata": {},
     "output_type": "display_data"
    }
   ],
   "source": [
    "@interact(L=[0., 3*L], R=[0., 3*R], Kp=[0.,10], Ti=[0., 1.])\n",
    "def open_plot(L=L,R=R, Kp=Kp, Ti=Ti, delay=False):\n",
    "    sys = sig.lti([1], [L, R])\n",
    "    ctrl = sig.lti([Kp*Ti, Kp], [Ti, 0])\n",
    "    H_ol = ctrl.freqresp(w_list)[1] * sys.freqresp(w_list)[1]\n",
    "    \n",
    "    if delay:\n",
    "        H_ol *= np.exp(-1j*w_list*Td)\n",
    "    \n",
    "    ax1, ax2 = bode_plot(w_list, dB(H_ol), deg(H_ol));\n",
    "    ax1.set_title('Open loop behavior, with the PI control')\n",
    "    #ax1.plot(w, dB(Kp/(w*L)), 'b--', label='Kp/Ls asympt')\n",
    "    \n",
    "    # phase margin\n",
    "    margin, i_0dB = phase_margin(H_ol)\n",
    "    w_0dB = w_list[i_0dB]\n",
    "    ax1.plot(w_0dB, 0, 'rD')\n",
    "    ax2.plot(w_0dB, -180+margin, 'rD')\n",
    "    ax2.vlines(w_0dB, -180, -180+margin, label=u'ph. margin {:.0f}°'.format(margin),\n",
    "               colors='red', linewidth=3, alpha=0.4)\n",
    "    ax2.legend(loc='lower right')"
   ]
  },
  {
   "cell_type": "markdown",
   "metadata": {},
   "source": [
    "## 4) Closed loop behavior"
   ]
  },
  {
   "cell_type": "markdown",
   "metadata": {},
   "source": [
    "In the frequency domain (not so useful)"
   ]
  },
  {
   "cell_type": "code",
   "execution_count": 194,
   "metadata": {
    "collapsed": false
   },
   "outputs": [],
   "source": [
    "H_cl = H_ol/(1+H_ol)"
   ]
  },
  {
   "cell_type": "code",
   "execution_count": 195,
   "metadata": {
    "collapsed": false
   },
   "outputs": [
    {
     "data": {
      "image/png": "[encoded data removed]",
      "text/plain": [
       "<matplotlib.figure.Figure at 0x7efd8e8e2fd0>"
      ]
     },
     "metadata": {},
     "output_type": "display_data"
    }
   ],
   "source": [
    "bode_plot(w_list, dB(H_cl), deg(H_cl));"
   ]
  },
  {
   "cell_type": "markdown",
   "metadata": {
    "collapsed": false
   },
   "source": [
    "### Time domain: transcient (step) response"
   ]
  },
  {
   "cell_type": "code",
   "execution_count": 196,
   "metadata": {
    "collapsed": false
   },
   "outputs": [
    {
     "data": {
      "text/plain": [
       "lti(\n",
       "array([[ -6., -10.],\n",
       "       [  1.,   0.]]),\n",
       "array([[ 1.],\n",
       "       [ 0.]]),\n",
       "array([[  5.,  10.]]),\n",
       "array([ 0.])\n",
       ")"
      ]
     },
     "execution_count": 196,
     "metadata": {},
     "output_type": "execute_result"
    }
   ],
   "source": [
    "cl_sys = sig.lti([Kp*Ti, Kp], [Ti*L,Kp*Ti + R*Ti, Kp])\n",
    "cl_sys"
   ]
  },
  {
   "cell_type": "code",
   "execution_count": 200,
   "metadata": {
    "collapsed": false
   },
   "outputs": [
    {
     "data": {
      "image/png": "[encoded data removed]",
      "text/plain": [
       "<matplotlib.figure.Figure at 0x7efd8fb27b10>"
      ]
     },
     "metadata": {},
     "output_type": "display_data"
    }
   ],
   "source": [
    "T_step = 2 #s\n",
    "\n",
    "@interact(L=[0., 3*L], R=[0., 3*R], Kp=[0.,10], Ti=[0., 1.])\n",
    "def step_plot(L=L,R=R, Kp=Kp, Ti=Ti):\n",
    "    cl_sys = sig.lti([Kp*Ti, Kp], [Ti*L,Kp*Ti + R*Ti, Kp])\n",
    "    # compute step response\n",
    "    t_step = np.linspace(0, T_step, 100)\n",
    "    t, h = cl_sys.step(T=t_step)\n",
    "    # plot\n",
    "    plt.plot(t_step, h)\n",
    "    ax = plt.gca()\n",
    "    ax.fill_between(t_step, 0.9, 1.1, linewidth=0, color='black', alpha=0.1)\n",
    "    ax.hlines(1, t[0], t[-1], linestyles='dashed')\n",
    "    title = u'''Step response of the PI controlled inverter\n",
    "L={:.1f} H, R={:.1f} Ω\n",
    "Kp={:.1f} Ω, Ti={:.1f} s'''\n",
    "    ax.set(title=title.format(L,R,Kp,Ti),\n",
    "           xlabel = 'time (s)',\n",
    "           ylim=(0, 1.3))\n",
    "    "
   ]
  },
  {
   "cell_type": "markdown",
   "metadata": {},
   "source": [
    "Note that the PWM delay is *not taken into account* in this transcient simulation."
   ]
  }
 ],
 "metadata": {
  "kernelspec": {
   "display_name": "Python 2",
   "language": "python",
   "name": "python2"
  },
  "language_info": {
   "codemirror_mode": {
    "name": "ipython",
    "version": 2
   },
   "file_extension": ".py",
   "mimetype": "text/x-python",
   "name": "python",
   "nbconvert_exporter": "python",
   "pygments_lexer": "ipython2",
   "version": "2.7.9"
  }
 },
 "nbformat": 4,
 "nbformat_minor": 0
}
