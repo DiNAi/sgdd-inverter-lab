{
 "cells": [
  {
   "cell_type": "markdown",
   "metadata": {},
   "source": [
    "# Tuning of the PI controller"
   ]
  },
  {
   "cell_type": "markdown",
   "metadata": {},
   "source": [
    "PI controller for the current in a three phase inverter.\n",
    "\n",
    "Control structure: for each channel (*d* and *q*):\n",
    "\n",
    "> (i* - i)  → | C | → u → | H | → i\n",
    "\n",
    "Pierre Haessig — May 2015"
   ]
  },
  {
   "cell_type": "code",
   "execution_count": 1,
   "metadata": {
    "collapsed": false
   },
   "outputs": [],
   "source": [
    "import numpy as np\n",
    "import matplotlib.pyplot as plt\n",
    "import matplotlib as mpl\n",
    "import scipy.signal as sig"
   ]
  },
  {
   "cell_type": "code",
   "execution_count": 2,
   "metadata": {
    "collapsed": false
   },
   "outputs": [],
   "source": [
    "%matplotlib inline"
   ]
  },
  {
   "cell_type": "code",
   "execution_count": 3,
   "metadata": {
    "collapsed": false
   },
   "outputs": [
    {
     "name": "stderr",
     "output_type": "stream",
     "text": [
      ":0: FutureWarning: IPython widgets are experimental and may change in the future.\n"
     ]
    }
   ],
   "source": [
    "from IPython.html.widgets import interact, interactive, FloatSlider"
   ]
  },
  {
   "cell_type": "markdown",
   "metadata": {},
   "source": [
    "## 1) Models of the inverter"
   ]
  },
  {
   "cell_type": "markdown",
   "metadata": {},
   "source": [
    "Because of:\n",
    "* expressing the electrical equation in the rotating dq frame\n",
    "* and because of the feedforward terms\n",
    "\n",
    "we control the inverter as two independant and equal channels, with a simple Voltage→Current transfer function:\n",
    "\n",
    "$$ H(s) = I(s) / U(s)$$\n",
    "\n",
    "cf. Notebook about [modeling an inverter in the dq frame](dq_inverter_model.ipynb).\n",
    "\n",
    "\n",
    "### Modeling options\n",
    "\n",
    "#### Integrator (pure inductance)\n",
    "\n",
    "Either we consider only the inductance:\n",
    "$$H(s) = \\frac{1}{L s}$$\n",
    "\n",
    "#### First order (RL circuit)\n",
    "\n",
    "or also a parasitic resistance:\n",
    "\n",
    "$$H(s) = \\frac{1}{R + Ls} = \\frac{1/R}{1 + \\tau s} $$\n",
    "\n",
    "with a time constant $\\tau = L/R$\n",
    "\n",
    "#### First order with delay\n",
    "\n",
    "In addition, we can also consider the delay induced by the sampling of the PWM modulation.\n",
    "\n",
    "$$\\tilde{H}(s) = H(s) e^{-T_d s}$$\n",
    "\n",
    "with $T_d \\approx 1/f_{switch}$ (or 1/2 of this ?)"
   ]
  },
  {
   "cell_type": "code",
   "execution_count": 312,
   "metadata": {
    "collapsed": true
   },
   "outputs": [],
   "source": [
    "f_switch = 10e3 # Hz\n",
    "Td = 1/f_switch"
   ]
  },
  {
   "cell_type": "code",
   "execution_count": 101,
   "metadata": {
    "collapsed": false
   },
   "outputs": [
    {
     "data": {
      "text/plain": [
       "lti(\n",
       "array([[-5.]]),\n",
       "array([[ 1.]]),\n",
       "array([[ 500.]]),\n",
       "array([ 0.])\n",
       ")"
      ]
     },
     "execution_count": 101,
     "metadata": {},
     "output_type": "execute_result"
    }
   ],
   "source": [
    "L = 2e-3 # H\n",
    "R = 10e-3 # Ohms\n",
    "\n",
    "sys = sig.lti([1], [L, R])\n",
    "sys"
   ]
  },
  {
   "cell_type": "markdown",
   "metadata": {},
   "source": [
    "Properties of the grid inductance:\n",
    "\n",
    "* impedance X = Lω\n",
    "* inductive voltage drop at 50 Hz\n",
    "* R/X ratio at 50 Hz"
   ]
  },
  {
   "cell_type": "code",
   "execution_count": 229,
   "metadata": {
    "collapsed": false
   },
   "outputs": [
    {
     "name": "stdout",
     "output_type": "stream",
     "text": [
      "X = Lω = 0.628 Ω\n",
      "I.X = 18 V, for I=29 A\n",
      "R/X = 0.016\n"
     ]
    }
   ],
   "source": [
    "X_50Hz = 2*np.pi*50*L\n",
    "I_max = 20e3 / 230 / 3 # 20 kVA\n",
    "print(u'X = Lω = {:.3f} Ω'.format(X_50Hz))\n",
    "print(u'I.X = {:.0f} V, for I={:.0f} A'.format(2*np.pi*50*L*I_max, I_max))\n",
    "print('R/X = {:.3f}'.format(R/X_50Hz))"
   ]
  },
  {
   "cell_type": "markdown",
   "metadata": {},
   "source": [
    "Rejection of PWM switcing signal at 10 kHz\n",
    "\n",
    "$$\\Delta I = \\frac{\\Delta U_{PWM} }{2\\pi L f_{PWM}}$$"
   ]
  },
  {
   "cell_type": "code",
   "execution_count": 318,
   "metadata": {
    "collapsed": false
   },
   "outputs": [
    {
     "data": {
      "text/plain": [
       "4.7746482927568605"
      ]
     },
     "execution_count": 318,
     "metadata": {},
     "output_type": "execute_result"
    }
   ],
   "source": [
    "V_dc = 600\n",
    "V_dc/(2*np.pi*f_switch*L)"
   ]
  },
  {
   "cell_type": "markdown",
   "metadata": {},
   "source": [
    "→ about 5 A of peak to peak oscillation in the current. Not that good, not that bad."
   ]
  },
  {
   "cell_type": "markdown",
   "metadata": {},
   "source": [
    "*Helper: Plotting function for a Bode diagram*"
   ]
  },
  {
   "cell_type": "code",
   "execution_count": 197,
   "metadata": {
    "collapsed": false
   },
   "outputs": [],
   "source": [
    "w_min = 10\n",
    "w_max = 10000\n",
    "w_list = np.logspace(1, 4) # ~.1s to .1ms time constants (~ 1 Hz to 1000 Hz)\n",
    "\n",
    "phase_locator = mpl.ticker.MultipleLocator(90)\n",
    "phase_locator_min = mpl.ticker.MultipleLocator(30)\n",
    "\n",
    "\n",
    "def bode_plot(w, mag, phase):\n",
    "    fig, (ax1, ax2) = plt.subplots(2,1, sharex=True)\n",
    "    ax1.set(xscale='log', ylabel='Gain (dB)')\n",
    "    ax1.axes.locator_params('y', nbins=5)\n",
    "    ax1.grid(True)\n",
    "    ax2.set(xscale='log', ylabel=u'phase (°)', xlabel=u'puls. ω (rad/s)')\n",
    "    ax2.yaxis.set_major_locator(phase_locator)\n",
    "    ax2.grid(True)\n",
    "    \n",
    "    ax1.plot(w, mag)\n",
    "    ax2.plot(w, phase)\n",
    "    return ax1, ax2"
   ]
  },
  {
   "cell_type": "markdown",
   "metadata": {},
   "source": [
    "### Bode diagram of the inverter"
   ]
  },
  {
   "cell_type": "markdown",
   "metadata": {},
   "source": [
    "$$H = U/I$$"
   ]
  },
  {
   "cell_type": "code",
   "execution_count": 230,
   "metadata": {
    "collapsed": false
   },
   "outputs": [
    {
     "data": {
      "image/png": "[encoded data removed]",
      "text/plain": [
       "<matplotlib.figure.Figure at 0x7f6c60317710>"
      ]
     },
     "metadata": {},
     "output_type": "display_data"
    }
   ],
   "source": [
    "@interact(mL=[0.,2000*L], R=[0., 10*R, 0.1*R])\n",
    "def sys_bode(mL=L*1000, R=R, delay=False):  \n",
    "    L = mL * 1e-3\n",
    "    sys = sig.lti([1], [L, R])\n",
    "    w, mag, phase = sys.bode(w_list)\n",
    "    if delay:\n",
    "        phase -= w_list*Td*180/np.pi\n",
    "    ax1, ax2 = bode_plot(w, mag, phase)\n",
    "    #ax1.plot(w, dB(1/(w*L)), 'b--', label='1/Ls asympt')\n",
    "    if R>0:\n",
    "        # mark the transistion frequency\n",
    "        tau = L/float(R)\n",
    "        ax1.plot(1/tau, -20*np.log10(R)-3, 'bo')\n",
    "        ax2.plot(1/tau, -45, 'bo')\n",
    "    ax1.set(title=u'Inverter transfer func \\nL={:.1f} mH, R={:.1f} Ω'.format(L*1000,R))\n",
    "    ax1.set_ylim(-20,20)\n",
    "    ax2.set_ylim(-180, 0)\n",
    "    ax2.set_xlim(w_min, w_max)"
   ]
  },
  {
   "cell_type": "markdown",
   "metadata": {},
   "source": [
    "Observation: for the range of pulsation which is interesting for the current control, the system is essentially inductive (integrator)."
   ]
  },
  {
   "cell_type": "markdown",
   "metadata": {},
   "source": [
    "## 2) PI Controller"
   ]
  },
  {
   "cell_type": "markdown",
   "metadata": {},
   "source": [
    "PI controller equation (other parametrizations are possible)\n",
    "\n",
    "$$C(s) = K_p (1+\\frac{1}{T_i s})$$"
   ]
  },
  {
   "cell_type": "code",
   "execution_count": 260,
   "metadata": {
    "collapsed": false
   },
   "outputs": [
    {
     "data": {
      "text/plain": [
       "lti(\n",
       "array([[-0.]]),\n",
       "array([[ 1.]]),\n",
       "array([[ 200.]]),\n",
       "array([ 2.])\n",
       ")"
      ]
     },
     "execution_count": 260,
     "metadata": {},
     "output_type": "execute_result"
    }
   ],
   "source": [
    "Kp = 2.\n",
    "Ti = 0.010 # s\n",
    "\n",
    "ctrl = sig.lti([Kp*Ti, Kp], [Ti, 0])\n",
    "ctrl"
   ]
  },
  {
   "cell_type": "markdown",
   "metadata": {},
   "source": [
    "Range of parameters for plot interactive changes:"
   ]
  },
  {
   "cell_type": "code",
   "execution_count": 261,
   "metadata": {
    "collapsed": true
   },
   "outputs": [],
   "source": [
    "interact_params = dict(\n",
    "    mL=[0., 2000*L],\n",
    "    R=[0., 10*R, 0.1*R],\n",
    "    Kp=[0.,10],\n",
    "    mTi=[0., Ti*10000, 1]\n",
    ")"
   ]
  },
  {
   "cell_type": "markdown",
   "metadata": {},
   "source": [
    "### Bode diagram of the controller"
   ]
  },
  {
   "cell_type": "code",
   "execution_count": 262,
   "metadata": {
    "collapsed": false
   },
   "outputs": [
    {
     "data": {
      "image/png": "[encoded data removed]",
      "text/plain": [
       "<matplotlib.figure.Figure at 0x7f6c613df910>"
      ]
     },
     "metadata": {},
     "output_type": "display_data"
    }
   ],
   "source": [
    "def ctrl_bode(Kp=Kp, mTi=Ti*1000):\n",
    "    Ti = mTi *  1e-3\n",
    "    ctrl = sig.lti([Kp*Ti, Kp], [Ti, 0])\n",
    "    w, mag, phase = ctrl.bode(w_list)\n",
    "    ax1, ax2 = bode_plot(w, mag, phase)\n",
    "    \n",
    "    ax1.set_title(u'PI control, Kp={:.1f} Ω, Ti={:.0f} ms'.format(Kp,Ti*1000))\n",
    "    \n",
    "    if Ti>0:\n",
    "        # mark the transistion frequency\n",
    "        ax1.plot(1/Ti, 20*np.log10(Kp)+3, 'bo')\n",
    "        ax2.plot(1/Ti, -45, 'bo')\n",
    "    \n",
    "\n",
    "interact(ctrl_bode, **interact_params);"
   ]
  },
  {
   "cell_type": "markdown",
   "metadata": {},
   "source": [
    "## 3) Analysis of the open loop transfer function"
   ]
  },
  {
   "cell_type": "markdown",
   "metadata": {},
   "source": [
    "issue: the series connection of two systems is not implemented"
   ]
  },
  {
   "cell_type": "code",
   "execution_count": 263,
   "metadata": {
    "collapsed": false
   },
   "outputs": [
    {
     "ename": "TypeError",
     "evalue": "unsupported operand type(s) for *: 'lti' and 'lti'",
     "output_type": "error",
     "traceback": [
      "\u001b[1;31m---------------------------------------------------------------------------\u001b[0m",
      "\u001b[1;31mTypeError\u001b[0m                                 Traceback (most recent call last)",
      "\u001b[1;32m<ipython-input-263-8972d705f621>\u001b[0m in \u001b[0;36m<module>\u001b[1;34m()\u001b[0m\n\u001b[1;32m----> 1\u001b[1;33m \u001b[0mH_ol\u001b[0m \u001b[1;33m=\u001b[0m \u001b[0mctrl\u001b[0m\u001b[1;33m*\u001b[0m\u001b[0msys\u001b[0m\u001b[1;33m\u001b[0m\u001b[0m\n\u001b[0m",
      "\u001b[1;31mTypeError\u001b[0m: unsupported operand type(s) for *: 'lti' and 'lti'"
     ]
    }
   ],
   "source": [
    "H_ol = ctrl*sys"
   ]
  },
  {
   "cell_type": "markdown",
   "metadata": {},
   "source": [
    "solution: do the connection in the frequency domain, manually:"
   ]
  },
  {
   "cell_type": "code",
   "execution_count": 264,
   "metadata": {
    "collapsed": false
   },
   "outputs": [],
   "source": [
    "H_ol = ctrl.freqresp(w_list)[1] * sys.freqresp(w_list)[1]"
   ]
  },
  {
   "cell_type": "markdown",
   "metadata": {},
   "source": [
    "### Computing the phase margin"
   ]
  },
  {
   "cell_type": "code",
   "execution_count": 265,
   "metadata": {
    "collapsed": false
   },
   "outputs": [],
   "source": [
    "def dB(x):\n",
    "    return 20*np.log10(np.abs(x))\n",
    "\n",
    "def deg(x):\n",
    "    if x.ndim>0: # unwrap\n",
    "        return np.unwrap(np.angle(x))*180/np.pi\n",
    "    else: # unwrap makes no sense (and fails) for scalars\n",
    "        return np.angle(x, deg=True)"
   ]
  },
  {
   "cell_type": "code",
   "execution_count": 266,
   "metadata": {
    "collapsed": true
   },
   "outputs": [],
   "source": [
    "def phase_margin(H_ol):\n",
    "    'phase margin for open loop tranfer function `H_ol` (array of complex numbers)'\n",
    "    # frequency of crossing 0dB\n",
    "    i1 = np.nonzero(dB(H_ol)>0)[0][-1] # last index with gain above 0dB\n",
    "    i2 = np.nonzero(dB(H_ol)<0)[0][0] # first index with gain below\n",
    "    \n",
    "    i_0dB = i2\n",
    "    \n",
    "    #w_cross = w[i_0dB]\n",
    "    margin = 180 + deg(H_ol[i_0dB])\n",
    "    return margin, i_0dB"
   ]
  },
  {
   "cell_type": "markdown",
   "metadata": {},
   "source": [
    "Phase margin for the currently defined system"
   ]
  },
  {
   "cell_type": "code",
   "execution_count": 267,
   "metadata": {
    "collapsed": false
   },
   "outputs": [
    {
     "data": {
      "text/plain": [
       "84.823259075850018"
      ]
     },
     "execution_count": 267,
     "metadata": {},
     "output_type": "execute_result"
    }
   ],
   "source": [
    "phase_margin(H_ol)[0]"
   ]
  },
  {
   "cell_type": "markdown",
   "metadata": {},
   "source": [
    "0dB pulsation"
   ]
  },
  {
   "cell_type": "code",
   "execution_count": 268,
   "metadata": {
    "collapsed": false
   },
   "outputs": [
    {
     "data": {
      "text/plain": [
       "1048.1131341546852"
      ]
     },
     "execution_count": 268,
     "metadata": {},
     "output_type": "execute_result"
    }
   ],
   "source": [
    "w_list[phase_margin(H_ol)[1]]"
   ]
  },
  {
   "cell_type": "markdown",
   "metadata": {},
   "source": [
    "### Plot of the open loop transfer"
   ]
  },
  {
   "cell_type": "markdown",
   "metadata": {},
   "source": [
    "####  Bode plot"
   ]
  },
  {
   "cell_type": "code",
   "execution_count": 363,
   "metadata": {
    "collapsed": false
   },
   "outputs": [
    {
     "data": {
      "image/png": "[encoded data removed]",
      "text/plain": [
       "<matplotlib.figure.Figure at 0x7f6c5f649f10>"
      ]
     },
     "metadata": {},
     "output_type": "display_data"
    }
   ],
   "source": [
    "def open_plot(mL=L*1000,R=R, Kp=Kp, mTi=Ti*1000, delay=False):\n",
    "    L = mL*1e-3\n",
    "    Ti = mTi*1e-3\n",
    "    \n",
    "    sys = sig.lti([1], [L, R])\n",
    "    ctrl = sig.lti([Kp*Ti, Kp], [Ti, 0])\n",
    "    H_ol = ctrl.freqresp(w_list)[1] * sys.freqresp(w_list)[1]\n",
    "    \n",
    "    if delay:\n",
    "        H_ol *= np.exp(-1j*w_list*Td)\n",
    "    \n",
    "    ax1, ax2 = bode_plot(w_list, dB(H_ol), deg(H_ol));\n",
    "    \n",
    "    title = u'''Open loop behavior, with PI controller\n",
    "L={:.1f} mH, R={:.0f} mΩ\n",
    "Kp={:.1f} Ω, Ti={:.0f} ms'''.format(L*1e3,R*1e3,Kp,Ti*1e3)\n",
    "    ax1.set_title(title)\n",
    "    #ax1.plot(w, dB(Kp/(w*L)), 'b--', label='Kp/Ls asympt')\n",
    "    \n",
    "    # phase margin\n",
    "    margin, i_0dB = phase_margin(H_ol)\n",
    "    w_0dB = w_list[i_0dB]\n",
    "    ax1.plot(w_0dB, 0, 'rD', label='3/$\\omega_{{0dB}}$ = {:.0f} ms'.format(3e3/w_0dB))\n",
    "    ax1.legend(loc='upper right', numpoints=1)\n",
    "    ax1.set_ylim(-30,30)\n",
    "    \n",
    "    ax2.plot(w_0dB, -180+margin, 'rD')\n",
    "    ax2.vlines(w_0dB, -180, -180+margin, label=u'ph. margin {:.0f}°'.format(margin),\n",
    "               colors='red', linewidth=3, alpha=0.4)\n",
    "    ax2.legend(loc='upper right')\n",
    "    ax2.set_ylim(-180, 0)\n",
    "    plt.tight_layout()\n",
    "    #plt.savefig('Bode_diagram.png', dpi=150)\n",
    "\n",
    "interact(open_plot, **interact_params);"
   ]
  },
  {
   "cell_type": "markdown",
   "metadata": {},
   "source": [
    "#### Black-Nichols chart"
   ]
  },
  {
   "cell_type": "markdown",
   "metadata": {},
   "source": [
    "Plot the same data (open loop tranfer), but in Black plan (phase, gain_dB).\n",
    "\n",
    "On this plot, we can superimpose Nichols' isogain lines.\n",
    "\n",
    "Parametric curve equation for a closed loop linear gain $g$:\n",
    "\n",
    "$$z = 1- re^{i\\theta}$$\n",
    "\n",
    "with\n",
    "$$r(\\theta) = \\frac{\\sqrt{g^2 -1 + \\cos^2 \\theta} - \\cos \\theta}{g^2 - 1}$$\n",
    "\n",
    "observation: $r \\sim 1/g$ for big values of gain $g$."
   ]
  },
  {
   "cell_type": "code",
   "execution_count": 281,
   "metadata": {
    "collapsed": true
   },
   "outputs": [],
   "source": [
    "# helper function\n",
    "def isogain_pts(gain_dB, n_pts=100):\n",
    "    '''generate the set of complex numbers `z` which have a given closed loop gain `gain_dB`\n",
    "    that is, solutions of 20 log10 |z/(1+z)| = gain_dB, with gain_dB > 0\n",
    "    '''\n",
    "    assert gain_dB>0 # formula below not valid for negative gains\n",
    "    th = np.linspace(-np.pi/2, np.pi*2 - np.pi/2, n_pts) \n",
    "    g = 10**(gain_dB/20.)\n",
    "    r = (np.sqrt(g**2 - 1 + np.cos(th)**2) - np.cos(th)) / \\\n",
    "        (g**2 - 1)\n",
    "    z = -1 + r*np.exp(1j*th)\n",
    "    return z"
   ]
  },
  {
   "cell_type": "code",
   "execution_count": 282,
   "metadata": {
    "collapsed": false
   },
   "outputs": [
    {
     "data": {
      "text/plain": [
       "array([ 3.,  3.,  3.,  3.,  3.,  3.,  3.,  3.,  3.,  3.])"
      ]
     },
     "execution_count": 282,
     "metadata": {},
     "output_type": "execute_result"
    }
   ],
   "source": [
    "# Check that the function is working properly\n",
    "z = isogain_pts(gain_dB=3, n_pts=10)\n",
    "20 * np.log10 (np.abs(z/(1+z)))"
   ]
  },
  {
   "cell_type": "code",
   "execution_count": 364,
   "metadata": {
    "collapsed": false
   },
   "outputs": [
    {
     "data": {
      "image/png": "[encoded data removed]",
      "text/plain": [
       "<matplotlib.figure.Figure at 0x7f6c5f87b090>"
      ]
     },
     "metadata": {},
     "output_type": "display_data"
    }
   ],
   "source": [
    "def black_plot(mL=L*1000,R=R, Kp=Kp, mTi=Ti*1000, delay=False):\n",
    "    L = mL*1e-3\n",
    "    Ti = mTi*1e-3\n",
    "    \n",
    "    sys = sig.lti([1], [L, R])\n",
    "    ctrl = sig.lti([Kp*Ti, Kp], [Ti, 0])\n",
    "    H_ol = ctrl.freqresp(w_list)[1] * sys.freqresp(w_list)[1]\n",
    "    \n",
    "    if delay:\n",
    "        H_ol *= np.exp(-1j*w_list*Td)\n",
    "    \n",
    "    fig = plt.figure(figsize=(5,6))\n",
    "    plt.plot(deg(H_ol), dB(H_ol), 'b-', label='OL tranfer', lw=2)\n",
    "    plt.plot(deg(H_ol[::2]), dB(H_ol[::2]), '+')\n",
    "    \n",
    "    # phase margin\n",
    "    margin, i_0dB = phase_margin(H_ol)\n",
    "    w_0dB = w_list[i_0dB]\n",
    "    margin_label = u'{:.0f}° margin at\\n 3/$\\omega_{{0dB}}$ = {:.0f} ms'.format(margin, 3e3/w_0dB)\n",
    "    plt.plot(-180, 0, 'rD') # critical point -1\n",
    "    plt.plot(-180+margin, 0, 'rD', label=margin_label)\n",
    "    plt.hlines(0, -180, -180+margin,\n",
    "               colors='red', linewidth=3, alpha=0.4)\n",
    "    \n",
    "    # Add a Nichols isogain contours\n",
    "    z = isogain_pts(gain_dB=1)\n",
    "    plt.plot(deg(z), dB(z), 'k-', label='CL isogain 1 dB')\n",
    "    \n",
    "    GdB_max = dB(np.max(np.abs(H_ol/(1+H_ol))))\n",
    "    if GdB_max > 0:\n",
    "        z = isogain_pts(GdB_max)\n",
    "        plt.plot(deg(z), dB(z), 'k:', label='CL isogain {:.1f} dB'.format(GdB_max))\n",
    "    \n",
    "        # Point the oscillation period of the maximum CL gain\n",
    "        i_max = np.argmax(np.abs(H_ol/(1+H_ol)))\n",
    "        w_max = w_list[i_max]\n",
    "        plt.plot(deg(H_ol[i_max]), dB(H_ol[i_max]), 'o', label='max CL gain at \\n$2\\pi/\\omega$ = {:.3f} s'.format(2*np.pi/w_max))\n",
    "    \n",
    "    ax = plt.gca()\n",
    "    ax.xaxis.set_major_locator(phase_locator)\n",
    "    ax.xaxis.set_minor_locator(phase_locator_min)\n",
    "    ax.legend(loc='upper right', numpoints=1, labelspacing=1.2)\n",
    "    ax.grid(True)\n",
    "    \n",
    "    title = u'''Open loop behavior, with PI controller\n",
    "L={:.1f} mH, R={:.0f} mΩ\n",
    "Kp={:.1f} Ω, Ti={:.0f} ms'''.format(L*1e3,R*1e3,Kp,Ti*1e3)\n",
    "    plt.title(title)\n",
    "    plt.xlim(-180, 0)\n",
    "    plt.ylim(-30, 30)\n",
    "    \n",
    "    fig.tight_layout()\n",
    "    fig.savefig('Black_diagram.png', dpi=150)\n",
    "\n",
    "interact(black_plot, **interact_params);"
   ]
  },
  {
   "cell_type": "markdown",
   "metadata": {},
   "source": [
    "Note : to avoid transcient overshoots, it is important that the closed-loop gain stays always lower than 1 dB (~ 1.12)"
   ]
  },
  {
   "cell_type": "markdown",
   "metadata": {},
   "source": [
    "## 4) Closed loop behavior"
   ]
  },
  {
   "cell_type": "markdown",
   "metadata": {},
   "source": [
    "#### Behavior in the frequency domain"
   ]
  },
  {
   "cell_type": "markdown",
   "metadata": {},
   "source": [
    "Closed loop transfer function:"
   ]
  },
  {
   "cell_type": "code",
   "execution_count": 284,
   "metadata": {
    "collapsed": false
   },
   "outputs": [],
   "source": [
    "H_cl = H_ol/(1+H_ol)"
   ]
  },
  {
   "cell_type": "code",
   "execution_count": 285,
   "metadata": {
    "collapsed": false
   },
   "outputs": [
    {
     "data": {
      "image/png": "[encoded data removed]",
      "text/plain": [
       "<matplotlib.figure.Figure at 0x7f6c6009c9d0>"
      ]
     },
     "metadata": {},
     "output_type": "display_data"
    }
   ],
   "source": [
    "ax1, ax2 = bode_plot(w_list, dB(H_cl), deg(H_cl));\n",
    "ax1.set_ylim(-10, 5)\n",
    "ax1.hlines(1, w_min, w_max, linestyles='dashed', color='r');\n",
    "ax1.hlines(-3, w_min, w_max, linestyles='dashed', color='g');"
   ]
  },
  {
   "cell_type": "markdown",
   "metadata": {
    "collapsed": false
   },
   "source": [
    "### Time domain:  transient behavior, step response"
   ]
  },
  {
   "cell_type": "code",
   "execution_count": 286,
   "metadata": {
    "collapsed": false
   },
   "outputs": [
    {
     "data": {
      "text/plain": [
       "lti(\n",
       "array([[ -1.00500000e+03,  -1.00000000e+05],\n",
       "       [  1.00000000e+00,   0.00000000e+00]]),\n",
       "array([[ 1.],\n",
       "       [ 0.]]),\n",
       "array([[  1000., 100000.]]),\n",
       "array([ 0.])\n",
       ")"
      ]
     },
     "execution_count": 286,
     "metadata": {},
     "output_type": "execute_result"
    }
   ],
   "source": [
    "cl_sys = sig.lti([Kp*Ti, Kp], [Ti*L,Kp*Ti + R*Ti, Kp])\n",
    "cl_sys"
   ]
  },
  {
   "cell_type": "code",
   "execution_count": 368,
   "metadata": {
    "collapsed": false
   },
   "outputs": [
    {
     "data": {
      "image/png": "[encoded data removed]",
      "text/plain": [
       "<matplotlib.figure.Figure at 0x7f6c5f7ada10>"
      ]
     },
     "metadata": {},
     "output_type": "display_data"
    }
   ],
   "source": [
    "T_step = 0.03 #s\n",
    "\n",
    "def step_plot(mL=L*1000,R=R, Kp=Kp, mTi=Ti*1000):\n",
    "    L = mL*1e-3\n",
    "    Ti = mTi*1e-3\n",
    "    \n",
    "    cl_sys = sig.lti([Kp*Ti, Kp], [Ti*L,Kp*Ti + R*Ti, Kp])\n",
    "    # compute step response\n",
    "    t_step = np.linspace(0, T_step, 100)\n",
    "    t, h = cl_sys.step(T=t_step)\n",
    "    t *= 1000\n",
    "    # plot\n",
    "    plt.plot(t, h)\n",
    "    ax = plt.gca()\n",
    "    ax.fill_between(t, 0.9, 1.1, linewidth=0, color='black', alpha=0.1)\n",
    "    ax.hlines(1, t[0], t[-1], linestyles='dashed')\n",
    "    title = u'''Step response of the PI controlled inverter\n",
    "L={:.1f} mH, R={:.0f} mΩ\n",
    "Kp={:.1f} Ω, Ti={:.0f} ms'''\n",
    "    ax.set(title=title.format(L*1e3,R*1e3,Kp,Ti*1000),\n",
    "           xlabel = 'time (ms)',\n",
    "           ylim=(0, 1.3))\n",
    "    plt.tight_layout()\n",
    "    #plt.savefig('step_response.png', dpi=150)\n",
    "\n",
    "interact(step_plot, **interact_params);"
   ]
  },
  {
   "cell_type": "markdown",
   "metadata": {},
   "source": [
    "Note that the PWM delay is *not taken into account* in this transcient simulation."
   ]
  },
  {
   "cell_type": "markdown",
   "metadata": {},
   "source": [
    "### Transcient of the control (voltage)"
   ]
  },
  {
   "cell_type": "markdown",
   "metadata": {},
   "source": [
    "$$ U/I^* = (U/I) . (I/I^*) = H^{-1} . H_{cl}$$\n",
    "\n",
    "therefore, the control tranfser function, in closed loop is:\n",
    "\n",
    "$$ H_{ctrl} = (R+Ls) . H_{cl}$$\n",
    "\n",
    "Properties:\n",
    "\n",
    "* static gain: $R$ \n",
    "* HF gain: $K_p$"
   ]
  },
  {
   "cell_type": "code",
   "execution_count": 370,
   "metadata": {
    "collapsed": false
   },
   "outputs": [
    {
     "data": {
      "image/png": "[encoded data removed]",
      "text/plain": [
       "<matplotlib.figure.Figure at 0x7f6c5f706890>"
      ]
     },
     "metadata": {},
     "output_type": "display_data"
    }
   ],
   "source": [
    "def step_plot_control(mL=L*1000,R=R, Kp=Kp, mTi=Ti*1000):\n",
    "    L = mL*1e-3\n",
    "    Ti = mTi*1e-3\n",
    "    \n",
    "    cl_sys = sig.lti([Kp*Ti*L, Kp*(L+Ti*R), Kp*R],\n",
    "                     [Ti*L,Kp*Ti + R*Ti, Kp])\n",
    "    # compute step response\n",
    "    t_step = np.linspace(0, T_step, 100)\n",
    "    t, h = cl_sys.step(T=t_step)\n",
    "    t *= 1000\n",
    "    \n",
    "    # plot\n",
    "    fig, (ax1, ax2) = plt.subplots(2,1, sharex=True, figsize=(6,6))\n",
    "    ax1.plot(t, h)\n",
    "    ax1.plot(t[0], h[0], 'bD')\n",
    "    ax1.hlines(X_50Hz, 0 , 30, colors='r', label=u'Lω at 50 Hz')\n",
    "    ax1.legend(loc='upper right')\n",
    "    title = u'''Control step response\n",
    "L={:.1f} mH, R={:.0f} mΩ\n",
    "Kp={:.1f} Ω, Ti={:.0f} ms'''\n",
    "    ax1.set(title=title.format(L*1e3,R*1e3,Kp,Ti*1000),\n",
    "            ylabel='u / I*',\n",
    "            ylim=(0,3))\n",
    "    ax1.set_ylim(0,3)\n",
    "    \n",
    "    ax2.plot(t, h)\n",
    "    ax1.hlines(X_50Hz, 0 , 30, colors='r', label=u'Lω at 50 Hz')\n",
    "    ax2.set(xlabel = 'time (ms)',\n",
    "            ylabel='u / I*',\n",
    "            ylim=(0,0.1)\n",
    "    )\n",
    "    fig.tight_layout()\n",
    "    #fig.savefig('control_response.png', dpi=150)\n",
    "\n",
    "interact(step_plot_control, **interact_params);"
   ]
  }
 ],
 "metadata": {
  "kernelspec": {
   "display_name": "Python 2",
   "language": "python",
   "name": "python2"
  },
  "language_info": {
   "codemirror_mode": {
    "name": "ipython",
    "version": 2
   },
   "file_extension": ".py",
   "mimetype": "text/x-python",
   "name": "python",
   "nbconvert_exporter": "python",
   "pygments_lexer": "ipython2",
   "version": "2.7.9"
  }
 },
 "nbformat": 4,
 "nbformat_minor": 0
}
