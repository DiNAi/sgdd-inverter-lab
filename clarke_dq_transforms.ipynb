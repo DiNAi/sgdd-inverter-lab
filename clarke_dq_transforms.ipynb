{
 "cells": [
  {
   "cell_type": "markdown",
   "metadata": {},
   "source": [
    "# *αβ* and *dq* transforms"
   ]
  },
  {
   "cell_type": "markdown",
   "metadata": {},
   "source": [
    "Playground for testing voltage/current transforms. Test the **imbalanced case**.\n",
    "\n",
    "PH, May 2015\n"
   ]
  },
  {
   "cell_type": "markdown",
   "metadata": {},
   "source": [
    "## αβ (Clarke) transform"
   ]
  },
  {
   "cell_type": "markdown",
   "metadata": {},
   "source": [
    "References:\n",
    "\n",
    "* Zhong &  Hornik (different sign convention)\n",
    "* http://en.wikipedia.org/wiki/Alpha%E2%80%93beta_transformation\n",
    "\n",
    "\n",
    "$$ i_{{\\alpha \\beta }}(t)={\\frac 23}{\\begin{bmatrix}1&-{\\frac 12}&-{\\frac 12}\\\\0&{\\frac {{\\sqrt {3}}}{2}}&-{\\frac {{\\sqrt {3}}}{2}}\\end{bmatrix}}{\\begin{bmatrix}i_{a}(t)\\\\i_{b}(t)\\\\i_{c}(t)\\end{bmatrix}} $$\n",
    "\n"
   ]
  },
  {
   "cell_type": "code",
   "execution_count": 1,
   "metadata": {
    "collapsed": false
   },
   "outputs": [],
   "source": [
    "import sympy\n",
    "from sympy import symbols, simplify, Matrix, sqrt, Rational\n",
    "from sympy import pi, cos, sin, exp"
   ]
  },
  {
   "cell_type": "code",
   "execution_count": 2,
   "metadata": {
    "collapsed": false
   },
   "outputs": [],
   "source": [
    "sympy.init_printing()"
   ]
  },
  {
   "cell_type": "markdown",
   "metadata": {},
   "source": [
    "The transformation matrix"
   ]
  },
  {
   "cell_type": "code",
   "execution_count": 9,
   "metadata": {
    "collapsed": false
   },
   "outputs": [
    {
     "data": {
      "image/png": "[encoded data removed]",
      "text/latex": [
       "$$\\left[\\begin{matrix}\\frac{2}{3} & - \\frac{1}{3} & - \\frac{1}{3}\\\\0 & \\frac{\\sqrt{3}}{3} & - \\frac{\\sqrt{3}}{3}\\end{matrix}\\right]$$"
      ],
      "text/plain": [
       "⎡2/3  -1/3    -1/3  ⎤\n",
       "⎢                   ⎥\n",
       "⎢       ___     ___ ⎥\n",
       "⎢     ╲╱ 3   -╲╱ 3  ⎥\n",
       "⎢ 0   ─────  ───────⎥\n",
       "⎣       3       3   ⎦"
      ]
     },
     "execution_count": 9,
     "metadata": {},
     "output_type": "execute_result"
    }
   ],
   "source": [
    "half = Rational(1,2)\n",
    "T = Rational(2,3) * Matrix(\n",
    "    [[1, -half, -half],\n",
    "     [0, sqrt(3)*half, -sqrt(3)*half]])\n",
    "T"
   ]
  },
  {
   "cell_type": "markdown",
   "metadata": {},
   "source": [
    "### Balanced phases"
   ]
  },
  {
   "cell_type": "code",
   "execution_count": 11,
   "metadata": {
    "collapsed": true
   },
   "outputs": [],
   "source": [
    "th = symbols('theta', real=True)"
   ]
  },
  {
   "cell_type": "code",
   "execution_count": 36,
   "metadata": {
    "collapsed": false
   },
   "outputs": [
    {
     "data": {
      "image/png": "[encoded data removed]",
      "text/latex": [
       "$$\\begin{pmatrix}\\cos{\\left (\\theta \\right )}, & - \\cos{\\left (\\theta + \\frac{\\pi}{3} \\right )}, & - \\sin{\\left (\\theta + \\frac{\\pi}{6} \\right )}\\end{pmatrix}$$"
      ],
      "text/plain": [
       "⎛            ⎛    π⎞      ⎛    π⎞⎞\n",
       "⎜cos(θ), -cos⎜θ + ─⎟, -sin⎜θ + ─⎟⎟\n",
       "⎝            ⎝    3⎠      ⎝    6⎠⎠"
      ]
     },
     "execution_count": 36,
     "metadata": {},
     "output_type": "execute_result"
    }
   ],
   "source": [
    "ia = cos(th)\n",
    "ib = cos(th-2*pi/3)\n",
    "ic = cos(th-4*pi/3)\n",
    "ia, ib, ic"
   ]
  },
  {
   "cell_type": "markdown",
   "metadata": {},
   "source": [
    "*phase shifted signals*"
   ]
  },
  {
   "cell_type": "code",
   "execution_count": null,
   "metadata": {
    "collapsed": false
   },
   "outputs": [],
   "source": [
    "ia = sin(th)\n",
    "ib = sin(th-2*pi/3)\n",
    "ic = sin(th-4*pi/3)\n",
    "ia, ib, ic"
   ]
  },
  {
   "cell_type": "code",
   "execution_count": 37,
   "metadata": {
    "collapsed": false
   },
   "outputs": [
    {
     "data": {
      "image/png": "[encoded data removed]",
      "text/latex": [
       "$$\\left[\\begin{matrix}\\cos{\\left (\\theta \\right )}\\\\- \\cos{\\left (\\theta + \\frac{\\pi}{3} \\right )}\\\\- \\sin{\\left (\\theta + \\frac{\\pi}{6} \\right )}\\end{matrix}\\right]$$"
      ],
      "text/plain": [
       "⎡  cos(θ)   ⎤\n",
       "⎢           ⎥\n",
       "⎢    ⎛    π⎞⎥\n",
       "⎢-cos⎜θ + ─⎟⎥\n",
       "⎢    ⎝    3⎠⎥\n",
       "⎢           ⎥\n",
       "⎢    ⎛    π⎞⎥\n",
       "⎢-sin⎜θ + ─⎟⎥\n",
       "⎣    ⎝    6⎠⎦"
      ]
     },
     "execution_count": 37,
     "metadata": {},
     "output_type": "execute_result"
    }
   ],
   "source": [
    "iabc = Matrix([ia, ib, ic])\n",
    "iabc"
   ]
  },
  {
   "cell_type": "markdown",
   "metadata": {},
   "source": [
    "Check that we indeed get a rotating vector"
   ]
  },
  {
   "cell_type": "code",
   "execution_count": 38,
   "metadata": {
    "collapsed": false
   },
   "outputs": [
    {
     "data": {
      "image/png": "[encoded data removed]",
      "text/latex": [
       "$$\\left[\\begin{matrix}\\cos{\\left (\\theta \\right )}\\\\\\sin{\\left (\\theta \\right )}\\end{matrix}\\right]$$"
      ],
      "text/plain": [
       "⎡cos(θ)⎤\n",
       "⎢      ⎥\n",
       "⎣sin(θ)⎦"
      ]
     },
     "execution_count": 38,
     "metadata": {},
     "output_type": "execute_result"
    }
   ],
   "source": [
    "simplify(T*iabc)"
   ]
  },
  {
   "cell_type": "markdown",
   "metadata": {
    "collapsed": false
   },
   "source": [
    "###  Variation: Clarke transform using Complex numbers"
   ]
  },
  {
   "cell_type": "markdown",
   "metadata": {},
   "source": [
    "Space vector, as a complex number:\n",
    "\n",
    "$$ V_s = 2/3 (v_a + a v_b + a^2 v_c)$$\n",
    "\n",
    "with $a = e^{j2\\pi/3}$, i.e. a +120° rotation.\n",
    "\n",
    "This space vector should be the same as $v_\\alpha + j v_\\beta$"
   ]
  },
  {
   "cell_type": "code",
   "execution_count": 15,
   "metadata": {
    "collapsed": false
   },
   "outputs": [],
   "source": [
    "j = sympy.I\n",
    "a = exp(2*j*pi/3)"
   ]
  },
  {
   "cell_type": "code",
   "execution_count": 21,
   "metadata": {
    "collapsed": false
   },
   "outputs": [
    {
     "data": {
      "image/png": "[encoded data removed]",
      "text/latex": [
       "$$- \\frac{2}{3} e^{\\frac{4 \\pi}{3} i} \\sin{\\left (\\theta + \\frac{\\pi}{6} \\right )} + \\frac{2}{3} \\cos{\\left (\\theta \\right )} - \\frac{2}{3} e^{\\frac{2 \\pi}{3} i} \\cos{\\left (\\theta + \\frac{\\pi}{3} \\right )}$$"
      ],
      "text/plain": [
       "     4⋅ⅈ⋅π                            2⋅ⅈ⋅π           \n",
       "     ─────                            ─────           \n",
       "       3      ⎛    π⎞                   3      ⎛    π⎞\n",
       "  2⋅ℯ     ⋅sin⎜θ + ─⎟              2⋅ℯ     ⋅cos⎜θ + ─⎟\n",
       "              ⎝    6⎠   2⋅cos(θ)               ⎝    3⎠\n",
       "- ─────────────────── + ──────── - ───────────────────\n",
       "           3               3                3         "
      ]
     },
     "execution_count": 21,
     "metadata": {},
     "output_type": "execute_result"
    }
   ],
   "source": [
    "V_s = Rational(2,3)* (ia + ib*a + ic*a**2)\n",
    "V_s "
   ]
  },
  {
   "cell_type": "code",
   "execution_count": 22,
   "metadata": {
    "collapsed": false
   },
   "outputs": [
    {
     "data": {
      "image/png": "[encoded data removed]",
      "text/latex": [
       "$$\\frac{2 \\sqrt[3]{-1}}{3} \\sin{\\left (\\theta + \\frac{\\pi}{6} \\right )} + \\frac{2}{3} \\cos{\\left (\\theta \\right )} - \\frac{2 \\left(-1\\right)^{\\frac{2}{3}}}{3} \\cos{\\left (\\theta + \\frac{\\pi}{3} \\right )}$$"
      ],
      "text/plain": [
       "  3 ____    ⎛    π⎞                    2/3    ⎛    π⎞\n",
       "2⋅╲╱ -1 ⋅sin⎜θ + ─⎟              2⋅(-1)   ⋅cos⎜θ + ─⎟\n",
       "            ⎝    6⎠   2⋅cos(θ)                ⎝    3⎠\n",
       "─────────────────── + ──────── - ────────────────────\n",
       "         3               3                3          "
      ]
     },
     "execution_count": 22,
     "metadata": {},
     "output_type": "execute_result"
    }
   ],
   "source": [
    "simplify(V_s) # this simplify doesn't work :-("
   ]
  },
  {
   "cell_type": "markdown",
   "metadata": {},
   "source": [
    "Apply the simplification on the real and the imag part separately"
   ]
  },
  {
   "cell_type": "code",
   "execution_count": 23,
   "metadata": {
    "collapsed": false
   },
   "outputs": [
    {
     "data": {
      "image/png": "[encoded data removed]",
      "text/latex": [
       "$$\\cos{\\left (\\theta \\right )}$$"
      ],
      "text/plain": [
       "cos(θ)"
      ]
     },
     "execution_count": 23,
     "metadata": {},
     "output_type": "execute_result"
    }
   ],
   "source": [
    "simplify(sympy.re(V_s))"
   ]
  },
  {
   "cell_type": "code",
   "execution_count": 24,
   "metadata": {
    "collapsed": false
   },
   "outputs": [
    {
     "data": {
      "image/png": "[encoded data removed]",
      "text/latex": [
       "$$\\sin{\\left (\\theta \\right )}$$"
      ],
      "text/plain": [
       "sin(θ)"
      ]
     },
     "execution_count": 24,
     "metadata": {},
     "output_type": "execute_result"
    }
   ],
   "source": [
    "simplify(sympy.im(V_s))"
   ]
  },
  {
   "cell_type": "markdown",
   "metadata": {},
   "source": [
    "Conclusion: it works, we indeed have $V_s = \\cos(\\theta) + j \\sin(\\theta) = e^{j\\theta}$ "
   ]
  },
  {
   "cell_type": "markdown",
   "metadata": {},
   "source": [
    "### Grid disturbances"
   ]
  },
  {
   "cell_type": "markdown",
   "metadata": {},
   "source": [
    "#### 1) Measurement offsets\n",
    "\n",
    "If the offsets on phase are equal, there is no effect on the *αβ* components. This is because $1 + a + a^2 = \\underline{0}$. \n",
    "\n",
    "(If offsets are different, we get a fixed perturbation°"
   ]
  },
  {
   "cell_type": "code",
   "execution_count": 25,
   "metadata": {
    "collapsed": false
   },
   "outputs": [
    {
     "data": {
      "image/png": "[encoded data removed]",
      "text/latex": [
       "$$\\left[\\begin{matrix}v_{0}\\\\v_{0}\\\\v_{0}\\end{matrix}\\right]$$"
      ],
      "text/plain": [
       "⎡v₀⎤\n",
       "⎢  ⎥\n",
       "⎢v₀⎥\n",
       "⎢  ⎥\n",
       "⎣v₀⎦"
      ]
     },
     "execution_count": 25,
     "metadata": {},
     "output_type": "execute_result"
    }
   ],
   "source": [
    "v0 = symbols('v_0')\n",
    "iabc_off = Matrix([v0, v0, v0])\n",
    "iabc_off"
   ]
  },
  {
   "cell_type": "code",
   "execution_count": 26,
   "metadata": {
    "collapsed": false
   },
   "outputs": [
    {
     "data": {
      "image/png": "[encoded data removed]",
      "text/latex": [
       "$$\\left[\\begin{matrix}0\\\\0\\end{matrix}\\right]$$"
      ],
      "text/plain": [
       "⎡0⎤\n",
       "⎢ ⎥\n",
       "⎣0⎦"
      ]
     },
     "execution_count": 26,
     "metadata": {},
     "output_type": "execute_result"
    }
   ],
   "source": [
    "T*iabc_off"
   ]
  },
  {
   "cell_type": "markdown",
   "metadata": {},
   "source": [
    "#### 2) Voltage imbalance"
   ]
  },
  {
   "cell_type": "code",
   "execution_count": 34,
   "metadata": {
    "collapsed": false
   },
   "outputs": [
    {
     "data": {
      "image/png": "[encoded data removed]",
      "text/latex": [
       "$$\\left[\\begin{matrix}\\cos{\\left (\\theta \\right )}\\\\- \\left(a + 1\\right) \\cos{\\left (\\theta + \\frac{\\pi}{3} \\right )}\\\\- \\left(b + 1\\right) \\sin{\\left (\\theta + \\frac{\\pi}{6} \\right )}\\end{matrix}\\right]$$"
      ],
      "text/plain": [
       "⎡      cos(θ)       ⎤\n",
       "⎢                   ⎥\n",
       "⎢            ⎛    π⎞⎥\n",
       "⎢-(a + 1)⋅cos⎜θ + ─⎟⎥\n",
       "⎢            ⎝    3⎠⎥\n",
       "⎢                   ⎥\n",
       "⎢            ⎛    π⎞⎥\n",
       "⎢-(b + 1)⋅sin⎜θ + ─⎟⎥\n",
       "⎣            ⎝    6⎠⎦"
      ]
     },
     "execution_count": 34,
     "metadata": {},
     "output_type": "execute_result"
    }
   ],
   "source": [
    "a,b = symbols('a b')\n",
    "\n",
    "ia_imb = cos(th)\n",
    "ib_imb = (1+a)*cos(th-2*pi/3)\n",
    "ic_imb = (1+b)*cos(th-4*pi/3)\n",
    "\n",
    "iabc_imb = Matrix([ia_imb, ib_imb, ic_imb])\n",
    "iabc_imb"
   ]
  },
  {
   "cell_type": "code",
   "execution_count": 39,
   "metadata": {
    "collapsed": false
   },
   "outputs": [
    {
     "data": {
      "image/png": "[encoded data removed]",
      "text/latex": [
       "$$\\left[\\begin{matrix}\\frac{a}{3} \\cos{\\left (\\theta + \\frac{\\pi}{3} \\right )} + \\frac{b}{3} \\sin{\\left (\\theta + \\frac{\\pi}{6} \\right )}\\\\\\frac{\\sqrt{3}}{3} \\left(- a \\cos{\\left (\\theta + \\frac{\\pi}{3} \\right )} + b \\sin{\\left (\\theta + \\frac{\\pi}{6} \\right )}\\right)\\end{matrix}\\right]$$"
      ],
      "text/plain": [
       "⎡          ⎛    π⎞        ⎛    π⎞     ⎤\n",
       "⎢     a⋅cos⎜θ + ─⎟   b⋅sin⎜θ + ─⎟     ⎥\n",
       "⎢          ⎝    3⎠        ⎝    6⎠     ⎥\n",
       "⎢     ──────────── + ────────────     ⎥\n",
       "⎢          3              3           ⎥\n",
       "⎢                                     ⎥\n",
       "⎢  ___ ⎛       ⎛    π⎞        ⎛    π⎞⎞⎥\n",
       "⎢╲╱ 3 ⋅⎜- a⋅cos⎜θ + ─⎟ + b⋅sin⎜θ + ─⎟⎟⎥\n",
       "⎢      ⎝       ⎝    3⎠        ⎝    6⎠⎠⎥\n",
       "⎢─────────────────────────────────────⎥\n",
       "⎣                  3                  ⎦"
      ]
     },
     "execution_count": 39,
     "metadata": {},
     "output_type": "execute_result"
    }
   ],
   "source": [
    "simplify(T*iabc_imb - T*iabc)"
   ]
  },
  {
   "cell_type": "markdown",
   "metadata": {},
   "source": [
    "This seems to create pulsations along lines:\n",
    "\n",
    "* in the (1, -sqrt(3)) direction (- 60° ?) for a\n",
    "* in the (1, +sqrt(3)) direction (+ 60° ?) for b\n",
    "\n",
    "Question: how does this translate on the angle error ?"
   ]
  },
  {
   "cell_type": "markdown",
   "metadata": {},
   "source": [
    "#### Harmonics"
   ]
  },
  {
   "cell_type": "code",
   "execution_count": 41,
   "metadata": {
    "collapsed": false
   },
   "outputs": [
    {
     "data": {
      "image/png": "[encoded data removed]",
      "text/latex": [
       "$$\\left[\\begin{matrix}a_{5} \\cos{\\left (5 \\theta \\right )} + a_{7} \\cos{\\left (7 \\theta \\right )} + \\cos{\\left (\\theta \\right )}\\\\- a_{5} \\sin{\\left (5 \\theta + \\frac{\\pi}{6} \\right )} - a_{7} \\cos{\\left (7 \\theta + \\frac{\\pi}{3} \\right )} - \\cos{\\left (\\theta + \\frac{\\pi}{3} \\right )}\\\\- a_{5} \\cos{\\left (5 \\theta + \\frac{\\pi}{3} \\right )} - a_{7} \\sin{\\left (7 \\theta + \\frac{\\pi}{6} \\right )} - \\sin{\\left (\\theta + \\frac{\\pi}{6} \\right )}\\end{matrix}\\right]$$"
      ],
      "text/plain": [
       "⎡       a₅⋅cos(5⋅θ) + a₇⋅cos(7⋅θ) + cos(θ)       ⎤\n",
       "⎢                                                ⎥\n",
       "⎢        ⎛      π⎞         ⎛      π⎞      ⎛    π⎞⎥\n",
       "⎢- a₅⋅sin⎜5⋅θ + ─⎟ - a₇⋅cos⎜7⋅θ + ─⎟ - cos⎜θ + ─⎟⎥\n",
       "⎢        ⎝      6⎠         ⎝      3⎠      ⎝    3⎠⎥\n",
       "⎢                                                ⎥\n",
       "⎢        ⎛      π⎞         ⎛      π⎞      ⎛    π⎞⎥\n",
       "⎢- a₅⋅cos⎜5⋅θ + ─⎟ - a₇⋅sin⎜7⋅θ + ─⎟ - sin⎜θ + ─⎟⎥\n",
       "⎣        ⎝      3⎠         ⎝      6⎠      ⎝    6⎠⎦"
      ]
     },
     "execution_count": 41,
     "metadata": {},
     "output_type": "execute_result"
    }
   ],
   "source": [
    "a5, a7 = symbols('a_5 a_7')\n",
    "\n",
    "ia_har = cos(th) + a5*cos(5*th) + a7*cos(7*th)\n",
    "ib_har = cos(th-2*pi/3) + a5*cos(5*(th-2*pi/3)) + a7*cos(7*(th-2*pi/3))\n",
    "ic_har = cos(th-4*pi/3) + a5*cos(5*(th-4*pi/3)) + a7*cos(7*(th-4*pi/3))\n",
    "\n",
    "iabc_har = Matrix([ia_har, ib_har, ic_har])\n",
    "iabc_har"
   ]
  },
  {
   "cell_type": "code",
   "execution_count": 42,
   "metadata": {
    "collapsed": false
   },
   "outputs": [
    {
     "data": {
      "image/png": "[encoded data removed]",
      "text/latex": [
       "$$\\left[\\begin{matrix}a_{5} \\cos{\\left (5 \\theta \\right )} + a_{7} \\cos{\\left (7 \\theta \\right )}\\\\- a_{5} \\sin{\\left (5 \\theta \\right )} + a_{7} \\sin{\\left (7 \\theta \\right )}\\end{matrix}\\right]$$"
      ],
      "text/plain": [
       "⎡a₅⋅cos(5⋅θ) + a₇⋅cos(7⋅θ) ⎤\n",
       "⎢                          ⎥\n",
       "⎣-a₅⋅sin(5⋅θ) + a₇⋅sin(7⋅θ)⎦"
      ]
     },
     "execution_count": 42,
     "metadata": {},
     "output_type": "execute_result"
    }
   ],
   "source": [
    "simplify(T*iabc_har - T*iabc)"
   ]
  },
  {
   "cell_type": "markdown",
   "metadata": {},
   "source": [
    "Observation:\n",
    "\n",
    "* the 5th harmonics creates a rotating component at $-5\\omega$ speed\n",
    "* the 7th harmonics creates a rotating component at $+7\\omega$ speed"
   ]
  },
  {
   "cell_type": "markdown",
   "metadata": {},
   "source": [
    "## Plots with unbalanced grid"
   ]
  },
  {
   "cell_type": "code",
   "execution_count": 44,
   "metadata": {
    "collapsed": true
   },
   "outputs": [],
   "source": [
    "import numpy as np\n",
    "pi = np.pi\n",
    "import matplotlib.pyplot as plt\n",
    "%matplotlib inline"
   ]
  },
  {
   "cell_type": "code",
   "execution_count": 122,
   "metadata": {
    "collapsed": false
   },
   "outputs": [
    {
     "name": "stderr",
     "output_type": "stream",
     "text": [
      ":0: FutureWarning: IPython widgets are experimental and may change in the future.\n"
     ]
    }
   ],
   "source": [
    "from IPython.html.widgets import interact"
   ]
  },
  {
   "cell_type": "markdown",
   "metadata": {},
   "source": [
    "abc signals"
   ]
  },
  {
   "cell_type": "code",
   "execution_count": 107,
   "metadata": {
    "collapsed": false
   },
   "outputs": [],
   "source": [
    "def abc_signal(a=0., b=0.):\n",
    "    th = np.linspace(0, 2*pi, 12*10+1) # points every 3 degrees\n",
    "\n",
    "    ia = np.cos(th)\n",
    "    ib = (1+a)*np.cos(th-2*pi/3)\n",
    "    ic = (1+b)*np.cos(th-4*pi/3)\n",
    "\n",
    "    iabc = np.vstack((ia,ib,ic))\n",
    "    return th, iabc"
   ]
  },
  {
   "cell_type": "code",
   "execution_count": 183,
   "metadata": {
    "collapsed": false
   },
   "outputs": [
    {
     "data": {
      "image/png": "[encoded data removed]",
      "text/plain": [
       "<matplotlib.figure.Figure at 0x7fae6b793e50>"
      ]
     },
     "metadata": {},
     "output_type": "display_data"
    }
   ],
   "source": [
    "@interact(a=[-0.2, 0.2, 0.01], b=[-0.2, 0.2, 0.01])\n",
    "def plot_spacevec(a=0.,b=0.):\n",
    "    th, iabc = abc_signal(a,b)\n",
    "    ia, ib, ic = iabc\n",
    "    \n",
    "    iabc_ref = abc_signal()[1]\n",
    "    \n",
    "    plt.plot(th/(2*pi), iabc_ref.T, 'k-', lw=0.5)\n",
    "    plt.plot(th/(2*pi), ia, 'b-', lw=2)\n",
    "    plt.plot(th/(2*pi), ib, 'g-', lw=2)\n",
    "    plt.plot(th/(2*pi), ic, 'r-', lw=2)\n",
    "   \n",
    "    plt.ylim(-1.2, 1.2)"
   ]
  },
  {
   "cell_type": "markdown",
   "metadata": {},
   "source": [
    "alpha beta transform"
   ]
  },
  {
   "cell_type": "code",
   "execution_count": 185,
   "metadata": {
    "collapsed": false
   },
   "outputs": [],
   "source": [
    "T = 2./3 * np.array(\n",
    "    [[1, -0.5, -0.5],\n",
    "     [0, np.sqrt(3)/2, -np.sqrt(3)/2]])\n",
    "T\n",
    "\n",
    "def abc2albet(i_abc):\n",
    "    i_albet = np.dot(T, i_abc)\n",
    "    return i_albet"
   ]
  },
  {
   "cell_type": "code",
   "execution_count": 186,
   "metadata": {
    "collapsed": false
   },
   "outputs": [
    {
     "data": {
      "image/png": "[encoded data removed]",
      "text/plain": [
       "<matplotlib.figure.Figure at 0x7fae6bac0cd0>"
      ]
     },
     "metadata": {},
     "output_type": "display_data"
    }
   ],
   "source": [
    "@interact(a=[-0.2, 0.2, 0.01], b=[-0.2, 0.2, 0.01])\n",
    "def plot_spacevec(a=0.,b=0.):\n",
    "    th, iabc = abc_signal(a,b)\n",
    "    ialpha, ibeta = abc2albet(iabc)\n",
    "    ialpha_ref, ibeta_ref = abc2albet(abc_signal()[1])\n",
    "    \n",
    "    fig = plt.figure()\n",
    "    title='Space vector for a pertubed grid \\n a={:.2f}, b={:.2f}'.format(a,b)\n",
    "    ax = fig.add_subplot(111, aspect='equal', title=title)\n",
    "    \n",
    "    plt.plot(ialpha_ref, ibeta_ref, 'k-', lw=0.5);\n",
    "    plt.plot(ialpha_ref[::10], ibeta_ref[::10], 'kD', alpha=0.5);\n",
    "    \n",
    "    plt.plot(ialpha, ibeta, 'b-');\n",
    "    plt.plot(ialpha[::10], ibeta[::10], 'bD');\n",
    "    \n",
    "    ax.set(xlim=(-1.2, 1.2), ylim=(-1.2, 1.2))"
   ]
  },
  {
   "cell_type": "code",
   "execution_count": 188,
   "metadata": {
    "collapsed": false
   },
   "outputs": [
    {
     "data": {
      "image/png": "[encoded data removed]",
      "text/plain": [
       "<matplotlib.figure.Figure at 0x7fae6b184450>"
      ]
     },
     "metadata": {},
     "output_type": "display_data"
    }
   ],
   "source": [
    "@interact(a=[-0.2, 0.2, 0.01], b=[-0.2, 0.2, 0.01])\n",
    "def plot_albet(a=0.,b=0.):\n",
    "    th, iabc = abc_signal(a,b)\n",
    "    ialpha, ibeta = abc2albet(iabc)\n",
    "    ialbet_ref = abc2albet(abc_signal()[1])\n",
    "    \n",
    "    x = th/(2*pi)\n",
    "    plt.plot(x, ialbet_ref.T, 'k-', lw=0.5)\n",
    "    plt.plot(x[::10], ialbet_ref.T[::10], 'kD', alpha=0.5)\n",
    "    \n",
    "    plt.plot(x, ialpha, '-', label=u'α',\n",
    "             lw=2, color='c')\n",
    "    plt.plot(x, ibeta,  '-', label=u'β',\n",
    "             lw=2, color='orange')\n",
    "    plt.plot(x[::10], ialpha[::10], 'D', color='c')\n",
    "    plt.plot(x[::10], ibeta[::10],  'D', color='orange')\n",
    "    \n",
    "    # Plot the angle\n",
    "    th_estim = np.arctan2(ibeta, ialpha)\n",
    "    th_estim = np.unwrap(th_estim)\n",
    "    \n",
    "    plt.plot(x, th/pi-1, 'k-', lw=0.5)\n",
    "    plt.plot(x, th_estim/pi-1, label=u'θ/pi -1', lw=2, color='#FF0099')\n",
    "    \n",
    "    plt.legend(loc='upper center', framealpha=0.8)\n",
    "    \n",
    "    plt.ylim(-1.2, 1.2)"
   ]
  },
  {
   "cell_type": "markdown",
   "metadata": {},
   "source": [
    "Observation: there seems to be a $2 \\omega$ perturbation on the angle"
   ]
  },
  {
   "cell_type": "markdown",
   "metadata": {},
   "source": [
    "Theoretical deviation, from Typhoon GCC practicum:\n",
    "\n",
    "$$e \\approx \\frac{a+b}{6} \\sin 2\\theta + \\frac{b-a}{2\\sqrt{3}} \\cos 2\\theta$$\n",
    "\n",
    "Graphical verification:"
   ]
  },
  {
   "cell_type": "code",
   "execution_count": 200,
   "metadata": {
    "collapsed": false
   },
   "outputs": [
    {
     "data": {
      "image/png": "[encoded data removed]",
      "text/plain": [
       "<matplotlib.figure.Figure at 0x7fae6b1730d0>"
      ]
     },
     "metadata": {},
     "output_type": "display_data"
    }
   ],
   "source": [
    "@interact(a=[-0.2, 0.2, 0.01], b=[-0.2, 0.2, 0.01])\n",
    "def plot_angle_error(a=0.,b=0.):\n",
    "    th, iabc = abc_signal(a,b)\n",
    "    ialpha, ibeta = abc2albet(iabc)\n",
    "    \n",
    "    th_estim = np.arctan2(ibeta, ialpha)\n",
    "    th_estim = np.unwrap(th_estim)\n",
    "    \n",
    "    th_err = th_estim - th\n",
    "    th_err_approx = (a+b)/6. * np.sin(2*th) + (b-a)/(2*np.sqrt(3)) * np.cos(2*th)\n",
    "    \n",
    "    x = th/(2*pi)\n",
    "    plt.plot(x, th_err_approx, 'k-', lw=0.5, label='error approx')\n",
    "    plt.plot(x, th_err, 'r-', lw=2, label='actual error')\n",
    "    \n",
    "    plt.legend(loc='upper center', framealpha=0.8)\n",
    "    plt.ylim(-0.15, 0.15)\n",
    "    plt.title('Angle error')\n",
    "    plt.ylabel('error (rad)')"
   ]
  },
  {
   "cell_type": "markdown",
   "metadata": {},
   "source": [
    "Observation: approx is fine for b-a term, a bit too big for the a+b term"
   ]
  }
 ],
 "metadata": {
  "kernelspec": {
   "display_name": "Python 2",
   "language": "python",
   "name": "python2"
  },
  "language_info": {
   "codemirror_mode": {
    "name": "ipython",
    "version": 2
   },
   "file_extension": ".py",
   "mimetype": "text/x-python",
   "name": "python",
   "nbconvert_exporter": "python",
   "pygments_lexer": "ipython2",
   "version": "2.7.9"
  }
 },
 "nbformat": 4,
 "nbformat_minor": 0
}
