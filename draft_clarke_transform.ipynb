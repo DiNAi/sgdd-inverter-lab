{
 "cells": [
  {
   "cell_type": "markdown",
   "metadata": {},
   "source": [
    "# Various stuff for the inverter control"
   ]
  },
  {
   "cell_type": "markdown",
   "metadata": {},
   "source": [
    "Draft notebook:\n",
    "\n",
    "* Alpha-beta transform playground\n",
    "* Plot of 3phase voltages\n",
    "* Low-pass filter design to filter out the switching frequency"
   ]
  },
  {
   "cell_type": "markdown",
   "metadata": {},
   "source": [
    "## Alpha-beta (Clarke) transform"
   ]
  },
  {
   "cell_type": "markdown",
   "metadata": {},
   "source": [
    "References:\n",
    "\n",
    "* Zhong &  Hornik (different sign convention)\n",
    "* http://en.wikipedia.org/wiki/Alpha%E2%80%93beta_transformation\n",
    "\n",
    "\n",
    "$$ i_{{\\alpha \\beta }}(t)={\\frac 23}{\\begin{bmatrix}1&-{\\frac 12}&-{\\frac 12}\\\\0&{\\frac {{\\sqrt {3}}}{2}}&-{\\frac {{\\sqrt {3}}}{2}}\\end{bmatrix}}{\\begin{bmatrix}i_{a}(t)\\\\i_{b}(t)\\\\i_{c}(t)\\end{bmatrix}} $$\n",
    "\n"
   ]
  },
  {
   "cell_type": "code",
   "execution_count": 29,
   "metadata": {
    "collapsed": false
   },
   "outputs": [],
   "source": [
    "import sympy\n",
    "from sympy import symbols, simplify, Matrix, sqrt, Rational\n",
    "from sympy import pi, cos, sin, exp"
   ]
  },
  {
   "cell_type": "code",
   "execution_count": 4,
   "metadata": {
    "collapsed": false
   },
   "outputs": [],
   "source": [
    "sympy.init_printing()"
   ]
  },
  {
   "cell_type": "code",
   "execution_count": 50,
   "metadata": {
    "collapsed": false
   },
   "outputs": [
    {
     "data": {
      "image/png": "[encoded data removed]",
      "text/latex": [
       "$$\\left[\\begin{matrix}\\frac{2}{3} & - \\frac{1}{3} & - \\frac{1}{3}\\\\0 & \\frac{\\sqrt{3}}{3} & - \\frac{\\sqrt{3}}{3}\\end{matrix}\\right]$$"
      ],
      "text/plain": [
       "⎡2/3  -1/3    -1/3  ⎤\n",
       "⎢                   ⎥\n",
       "⎢       ___     ___ ⎥\n",
       "⎢     ╲╱ 3   -╲╱ 3  ⎥\n",
       "⎢ 0   ─────  ───────⎥\n",
       "⎣       3       3   ⎦"
      ]
     },
     "execution_count": 50,
     "metadata": {},
     "output_type": "execute_result"
    }
   ],
   "source": [
    "th = symbols('theta', real=True)\n",
    "ia, ib, ic = symbols('i_a i_b i_c')\n",
    "ialph, ibet = symbols('i_alpha i_beta')\n",
    "\n",
    "half = Rational(1,2)\n",
    "T = Rational(2,3) * Matrix(\n",
    "    [[1, -half, -half],\n",
    "     [0, sqrt(3)*half, -sqrt(3)*half]])\n",
    "T"
   ]
  },
  {
   "cell_type": "code",
   "execution_count": 51,
   "metadata": {
    "collapsed": false
   },
   "outputs": [
    {
     "data": {
      "image/png": "[encoded data removed]",
      "text/latex": [
       "$$\\begin{pmatrix}\\cos{\\left (\\theta \\right )}, & - \\cos{\\left (\\theta + \\frac{\\pi}{3} \\right )}, & - \\sin{\\left (\\theta + \\frac{\\pi}{6} \\right )}\\end{pmatrix}$$"
      ],
      "text/plain": [
       "⎛            ⎛    π⎞      ⎛    π⎞⎞\n",
       "⎜cos(θ), -cos⎜θ + ─⎟, -sin⎜θ + ─⎟⎟\n",
       "⎝            ⎝    3⎠      ⎝    6⎠⎠"
      ]
     },
     "execution_count": 51,
     "metadata": {},
     "output_type": "execute_result"
    }
   ],
   "source": [
    "ia = cos(th)\n",
    "ib = cos(th-2*pi/3)\n",
    "ic = cos(th-4*pi/3)\n",
    "ia, ib, ic"
   ]
  },
  {
   "cell_type": "code",
   "execution_count": 42,
   "metadata": {
    "collapsed": false
   },
   "outputs": [
    {
     "data": {
      "image/png": "[encoded data removed]",
      "text/latex": [
       "$$\\begin{pmatrix}\\sin{\\left (\\theta \\right )}, & - \\sin{\\left (\\theta + \\frac{\\pi}{3} \\right )}, & \\cos{\\left (\\theta + \\frac{\\pi}{6} \\right )}\\end{pmatrix}$$"
      ],
      "text/plain": [
       "⎛            ⎛    π⎞     ⎛    π⎞⎞\n",
       "⎜sin(θ), -sin⎜θ + ─⎟, cos⎜θ + ─⎟⎟\n",
       "⎝            ⎝    3⎠     ⎝    6⎠⎠"
      ]
     },
     "execution_count": 42,
     "metadata": {},
     "output_type": "execute_result"
    }
   ],
   "source": [
    "ia = sin(th)\n",
    "ib = sin(th-2*pi/3)\n",
    "ic = sin(th-4*pi/3)\n",
    "ia, ib, ic"
   ]
  },
  {
   "cell_type": "code",
   "execution_count": 52,
   "metadata": {
    "collapsed": false
   },
   "outputs": [
    {
     "data": {
      "image/png": "[encoded data removed]",
      "text/latex": [
       "$$\\left[\\begin{matrix}\\cos{\\left (\\theta \\right )}\\\\- \\cos{\\left (\\theta + \\frac{\\pi}{3} \\right )}\\\\- \\sin{\\left (\\theta + \\frac{\\pi}{6} \\right )}\\end{matrix}\\right]$$"
      ],
      "text/plain": [
       "⎡  cos(θ)   ⎤\n",
       "⎢           ⎥\n",
       "⎢    ⎛    π⎞⎥\n",
       "⎢-cos⎜θ + ─⎟⎥\n",
       "⎢    ⎝    3⎠⎥\n",
       "⎢           ⎥\n",
       "⎢    ⎛    π⎞⎥\n",
       "⎢-sin⎜θ + ─⎟⎥\n",
       "⎣    ⎝    6⎠⎦"
      ]
     },
     "execution_count": 52,
     "metadata": {},
     "output_type": "execute_result"
    }
   ],
   "source": [
    "iabc = Matrix([ia, ib, ic])\n",
    "iabc"
   ]
  },
  {
   "cell_type": "code",
   "execution_count": 53,
   "metadata": {
    "collapsed": false
   },
   "outputs": [
    {
     "data": {
      "image/png": "[encoded data removed]",
      "text/latex": [
       "$$\\left[\\begin{matrix}\\cos{\\left (\\theta \\right )}\\\\\\sin{\\left (\\theta \\right )}\\end{matrix}\\right]$$"
      ],
      "text/plain": [
       "⎡cos(θ)⎤\n",
       "⎢      ⎥\n",
       "⎣sin(θ)⎦"
      ]
     },
     "execution_count": 53,
     "metadata": {},
     "output_type": "execute_result"
    }
   ],
   "source": [
    "simplify(T*iabc)"
   ]
  },
  {
   "cell_type": "markdown",
   "metadata": {
    "collapsed": false
   },
   "source": [
    "###  Clarke transform using Complex numbers"
   ]
  },
  {
   "cell_type": "code",
   "execution_count": 54,
   "metadata": {
    "collapsed": false
   },
   "outputs": [],
   "source": [
    "j = sympy.I\n",
    "a = exp(2*j*pi/3)"
   ]
  },
  {
   "cell_type": "code",
   "execution_count": 55,
   "metadata": {
    "collapsed": false
   },
   "outputs": [
    {
     "data": {
      "image/png": "[encoded data removed]",
      "text/latex": [
       "$$- \\frac{2}{3} e^{\\frac{4 \\pi}{3} i} \\sin{\\left (\\theta + \\frac{\\pi}{6} \\right )} + \\frac{2}{3} \\cos{\\left (\\theta \\right )} - \\frac{2}{3} e^{\\frac{2 \\pi}{3} i} \\cos{\\left (\\theta + \\frac{\\pi}{3} \\right )}$$"
      ],
      "text/plain": [
       "     4⋅ⅈ⋅π                            2⋅ⅈ⋅π           \n",
       "     ─────                            ─────           \n",
       "       3      ⎛    π⎞                   3      ⎛    π⎞\n",
       "  2⋅ℯ     ⋅sin⎜θ + ─⎟              2⋅ℯ     ⋅cos⎜θ + ─⎟\n",
       "              ⎝    6⎠   2⋅cos(θ)               ⎝    3⎠\n",
       "- ─────────────────── + ──────── - ───────────────────\n",
       "           3               3                3         "
      ]
     },
     "execution_count": 55,
     "metadata": {},
     "output_type": "execute_result"
    }
   ],
   "source": [
    "V_phas = Rational(2,3)* (ia + ib*a + ic*a**2)\n",
    "V_phas "
   ]
  },
  {
   "cell_type": "code",
   "execution_count": 56,
   "metadata": {
    "collapsed": false
   },
   "outputs": [
    {
     "data": {
      "image/png": "[encoded data removed]",
      "text/latex": [
       "$$\\frac{2 \\sqrt[3]{-1}}{3} \\sin{\\left (\\theta + \\frac{\\pi}{6} \\right )} + \\frac{2}{3} \\cos{\\left (\\theta \\right )} - \\frac{2 \\left(-1\\right)^{\\frac{2}{3}}}{3} \\cos{\\left (\\theta + \\frac{\\pi}{3} \\right )}$$"
      ],
      "text/plain": [
       "  3 ____    ⎛    π⎞                    2/3    ⎛    π⎞\n",
       "2⋅╲╱ -1 ⋅sin⎜θ + ─⎟              2⋅(-1)   ⋅cos⎜θ + ─⎟\n",
       "            ⎝    6⎠   2⋅cos(θ)                ⎝    3⎠\n",
       "─────────────────── + ──────── - ────────────────────\n",
       "         3               3                3          "
      ]
     },
     "execution_count": 56,
     "metadata": {},
     "output_type": "execute_result"
    }
   ],
   "source": [
    "simplify(V_phas)"
   ]
  },
  {
   "cell_type": "code",
   "execution_count": 57,
   "metadata": {
    "collapsed": false
   },
   "outputs": [
    {
     "data": {
      "image/png": "[encoded data removed]",
      "text/latex": [
       "$$\\cos{\\left (\\theta \\right )}$$"
      ],
      "text/plain": [
       "cos(θ)"
      ]
     },
     "execution_count": 57,
     "metadata": {},
     "output_type": "execute_result"
    }
   ],
   "source": [
    "simplify(sympy.re(V_phas))"
   ]
  },
  {
   "cell_type": "code",
   "execution_count": 58,
   "metadata": {
    "collapsed": false
   },
   "outputs": [
    {
     "data": {
      "image/png": "[encoded data removed]",
      "text/latex": [
       "$$\\sin{\\left (\\theta \\right )}$$"
      ],
      "text/plain": [
       "sin(θ)"
      ]
     },
     "execution_count": 58,
     "metadata": {},
     "output_type": "execute_result"
    }
   ],
   "source": [
    "simplify(sympy.im(V_phas))"
   ]
  },
  {
   "cell_type": "markdown",
   "metadata": {},
   "source": [
    "Conclusion: V_phas = $e^{j\\theta}$ "
   ]
  },
  {
   "cell_type": "markdown",
   "metadata": {},
   "source": [
    "## plots of three phase voltages"
   ]
  },
  {
   "cell_type": "markdown",
   "metadata": {},
   "source": [
    "Note : this should be merged with https://github.com/pierre-haessig/trace-triphi"
   ]
  },
  {
   "cell_type": "code",
   "execution_count": 62,
   "metadata": {
    "collapsed": false
   },
   "outputs": [],
   "source": [
    "import numpy as np\n",
    "from numpy import pi, cos, sin, sqrt\n",
    "import matplotlib.pyplot as plt"
   ]
  },
  {
   "cell_type": "code",
   "execution_count": 63,
   "metadata": {
    "collapsed": false
   },
   "outputs": [],
   "source": [
    "%matplotlib inline"
   ]
  },
  {
   "cell_type": "code",
   "execution_count": 144,
   "metadata": {
    "collapsed": false
   },
   "outputs": [],
   "source": [
    "Nper = 1\n",
    "Npts = 500\n",
    "th = np.linspace(0, 2*pi*Nper, Npts)\n",
    "\n",
    "ia = cos(th)\n",
    "ib = cos(th-2*pi/3)\n",
    "ic = cos(th-4*pi/3)"
   ]
  },
  {
   "cell_type": "code",
   "execution_count": 145,
   "metadata": {
    "collapsed": false
   },
   "outputs": [
    {
     "data": {
      "image/png": "[encoded data removed]",
      "text/latex": [
       "$$0.866025403784$$"
      ],
      "text/plain": [
       "0.866025403784"
      ]
     },
     "execution_count": 145,
     "metadata": {},
     "output_type": "execute_result"
    }
   ],
   "source": [
    "sin(2*pi/3)"
   ]
  },
  {
   "cell_type": "code",
   "execution_count": 146,
   "metadata": {
    "collapsed": false
   },
   "outputs": [
    {
     "data": {
      "text/plain": [
       "(array([ 0.        ,  0.52359878,  1.04719755,  1.57079633,  2.0943951 ,\n",
       "         2.61799388,  3.14159265,  3.66519143,  4.1887902 ,  4.71238898,\n",
       "         5.23598776,  5.75958653,  6.28318531]),\n",
       " ['0',\n",
       "  '$\\\\frac{\\\\pi}{6}$',\n",
       "  '$\\\\frac{\\\\pi}{3}$',\n",
       "  '$\\\\frac{\\\\pi}{2}$',\n",
       "  '$\\\\frac{2\\\\pi}{3}$',\n",
       "  '$\\\\frac{5\\\\pi}{6}$',\n",
       "  '$\\\\pi$',\n",
       "  '$\\\\frac{7\\\\pi}{6}$',\n",
       "  '$\\\\frac{4\\\\pi}{3}$',\n",
       "  '$\\\\frac{3\\\\pi}{2}$',\n",
       "  '$\\\\frac{5\\\\pi}{3}$',\n",
       "  '$\\\\frac{11\\\\pi}{6}$',\n",
       "  '$2\\\\pi$'])"
      ]
     },
     "execution_count": 146,
     "metadata": {},
     "output_type": "execute_result"
    }
   ],
   "source": [
    "def label_2pi12(Nper):\n",
    "    pos = np.linspace(0, 2*pi*Nper, Nper*12+1) # pi/6 spacing\n",
    "    \n",
    "    num_list = range(0, Nper*12+1)\n",
    "    den = 6\n",
    "    from fractions import Fraction\n",
    "    labels = [Fraction(num, den) for num in num_list]\n",
    "    \n",
    "    def fmt_pi_frac(frac):\n",
    "        num, den = frac.numerator, frac.denominator\n",
    "        if den == 1: # integer\n",
    "            if num == 0:\n",
    "                return '0'\n",
    "            elif num == 1:\n",
    "                return r'$\\pi$'\n",
    "            elif num == -1:\n",
    "                return r'$-\\pi$'\n",
    "            else:\n",
    "                return r'${:d}\\pi$'.format(num)\n",
    "        else: # den != 1\n",
    "            if num==1: # pi/den\n",
    "                return r'$\\frac{{\\pi}}{{{:d}}}$'.format(den)\n",
    "            elif num == -1:\n",
    "                return r'$-\\frac{{\\pi}}{{{:d}}}$'.format(den)\n",
    "            else:\n",
    "                return r'$\\frac{{{:d}\\pi}}{{{:d}}}$'.format(num,den)\n",
    "    labels = map(fmt_pi_frac, labels)\n",
    "    \n",
    "    return pos, labels\n",
    "\n",
    "label_2pi12(1)"
   ]
  },
  {
   "cell_type": "code",
   "execution_count": 155,
   "metadata": {
    "collapsed": false
   },
   "outputs": [
    {
     "data": {
      "image/png": "[encoded data removed]",
      "text/plain": [
       "<matplotlib.figure.Figure at 0x7fd2b41a8050>"
      ]
     },
     "metadata": {},
     "output_type": "display_data"
    }
   ],
   "source": [
    "fig = plt.figure(figsize=(5,3))\n",
    "plt.plot(th, ia, label='a')\n",
    "plt.plot(th, ib, label='b')\n",
    "plt.plot(th, ic, label='c')\n",
    "plt.legend();\n",
    "\n",
    "plt.xticks(*label_2pi12(Nper));\n",
    "plt.yticks([-1, -sin(2*pi/3), -0.5, 0, 0.5, sin(2*pi/3), 1],\n",
    "           ['-1', '$-\\sqrt{3}/2$', '-1/2', '0', '1/2', '$\\sqrt{3}/2$', '1']);\n",
    "plt.grid(color=(0.5, 0.5, 0.5))\n",
    "plt.xlim(0, 2*pi*Nper)\n",
    "plt.ylim(-1.1, 1.1)\n",
    "\n",
    "fig.tight_layout()\n",
    "\n",
    "fig.savefig('abc_1per.png', dpi=200)"
   ]
  },
  {
   "cell_type": "markdown",
   "metadata": {},
   "source": [
    "## LP filter to filter out the switching frequency"
   ]
  },
  {
   "cell_type": "markdown",
   "metadata": {},
   "source": [
    "simple filter:\n",
    "\n",
    "$$ H(s) = 1/(1+\\tau s)^n$$\n",
    "\n",
    "Q: find appropriate n and tau"
   ]
  },
  {
   "cell_type": "code",
   "execution_count": 222,
   "metadata": {
    "collapsed": false
   },
   "outputs": [],
   "source": [
    "fs = 10e3 # Hz\n",
    "f_grid = 50 # Hz\n",
    "\n",
    "# desired attenuation @fs\n",
    "a = 2.0 # 1:1000 atten"
   ]
  },
  {
   "cell_type": "code",
   "execution_count": 223,
   "metadata": {
    "collapsed": false
   },
   "outputs": [
    {
     "data": {
      "image/png": "[encoded data removed]",
      "text/latex": [
       "$$\\begin{pmatrix}0.00159154943092, & 0.000159154943092, & 7.3873180667e-05, & 5.03292121045e-05\\end{pmatrix}$$"
      ],
      "text/plain": [
       "(0.00159154943092, 0.000159154943092, 7.3873180667e-05, 5.03292121045e-05)"
      ]
     },
     "execution_count": 223,
     "metadata": {},
     "output_type": "execute_result"
    }
   ],
   "source": [
    "def tau(n):   \n",
    "    return 10**(a/n - np.log10(2*pi*fs)) # s\n",
    "tau(1), tau(2), tau(3), tau(4)"
   ]
  },
  {
   "cell_type": "code",
   "execution_count": 220,
   "metadata": {
    "collapsed": false
   },
   "outputs": [
    {
     "data": {
      "image/png": "[encoded data removed]",
      "text/latex": [
       "$$\\begin{pmatrix}-26.5650511771, & -5.72481045222, & -3.98843579013, & -3.62340134154\\end{pmatrix}$$"
      ],
      "text/plain": [
       "(-26.5650511771, -5.72481045222, -3.98843579013, -3.62340134154)"
      ]
     },
     "execution_count": 220,
     "metadata": {},
     "output_type": "execute_result"
    }
   ],
   "source": [
    "def phi(n):\n",
    "    \n",
    "    return -n*np.angle(1+2j*pi*tau(n)*f_grid) * (180/pi)\n",
    "phi(1), phi(2), phi(3), phi(4)"
   ]
  },
  {
   "cell_type": "code",
   "execution_count": null,
   "metadata": {
    "collapsed": false
   },
   "outputs": [],
   "source": [
    "np.angle(1+2j*pi*tau(n)*f_grid)"
   ]
  },
  {
   "cell_type": "code",
   "execution_count": 208,
   "metadata": {
    "collapsed": false
   },
   "outputs": [
    {
     "data": {
      "image/png": "[encoded data removed]",
      "text/latex": [
       "$$\\begin{pmatrix}0.0166655684475, & -7918.68255667\\end{pmatrix}$$"
      ],
      "text/plain": [
       "(0.0166655684475, -7918.68255667)"
      ]
     },
     "execution_count": 208,
     "metadata": {},
     "output_type": "execute_result"
    }
   ],
   "source": [
    "tau(100), phi(100)"
   ]
  },
  {
   "cell_type": "markdown",
   "metadata": {},
   "source": [
    "conclusion: there is an increase for \"big values\" of n"
   ]
  }
 ],
 "metadata": {
  "kernelspec": {
   "display_name": "Python 2",
   "language": "python",
   "name": "python2"
  },
  "language_info": {
   "codemirror_mode": {
    "name": "ipython",
    "version": 2
   },
   "file_extension": ".py",
   "mimetype": "text/x-python",
   "name": "python",
   "nbconvert_exporter": "python",
   "pygments_lexer": "ipython2",
   "version": "2.7.9"
  }
 },
 "nbformat": 4,
 "nbformat_minor": 0
}
